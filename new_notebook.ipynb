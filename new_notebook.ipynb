{
 "cells": [
  {
   "cell_type": "markdown",
   "id": "81b2bf25",
   "metadata": {},
   "source": [
    "# I will be analyzing a dataset of traffic stops in Rhode Island that was collected by the Stanford Open Policing Project.\n",
    "\n",
    "### I will be trying to answer questions below by exploratory data analysis. Questions are;\n",
    "- Do men or women speed more often?\n",
    "- Does gender affect who gets searched during a stop?\n",
    "- During a search, how often is the driver frisked?\n",
    "- Which year had the least number of stops?\n",
    "- How does drug activity change by time of day?\n",
    "- Do most stops occur at night?\n",
    "\n",
    "First, it is important to get familiarize with the dataset. Let's start analyzing data by importing essential libraries."
   ]
  },
  {
   "cell_type": "markdown",
   "id": "bfadc59e",
   "metadata": {},
   "source": [
    "***"
   ]
  },
  {
   "cell_type": "code",
   "execution_count": 1,
   "id": "34474e6a",
   "metadata": {},
   "outputs": [],
   "source": [
    "import pandas as pd\n",
    "import numpy as np\n",
    "import matplotlib.pyplot as plt\n",
    "import seaborn as sns\n",
    "\n",
    "pd.set_option(\"display.max_columns\", None)"
   ]
  },
  {
   "cell_type": "code",
   "execution_count": 2,
   "id": "2b914a09",
   "metadata": {},
   "outputs": [
    {
     "name": "stderr",
     "output_type": "stream",
     "text": [
      "/Users/emresengul/opt/anaconda3/lib/python3.8/site-packages/IPython/core/interactiveshell.py:3165: DtypeWarning: Columns (8,16) have mixed types.Specify dtype option on import or set low_memory=False.\n",
      "  has_raised = await self.run_ast_nodes(code_ast.body, cell_name,\n"
     ]
    }
   ],
   "source": [
    "df = pd.read_csv(\"police.csv\")"
   ]
  },
  {
   "cell_type": "code",
   "execution_count": 3,
   "id": "1053eb2f",
   "metadata": {},
   "outputs": [
    {
     "data": {
      "text/plain": [
       "(509681, 26)"
      ]
     },
     "execution_count": 3,
     "metadata": {},
     "output_type": "execute_result"
    }
   ],
   "source": [
    "df.shape"
   ]
  },
  {
   "cell_type": "code",
   "execution_count": 4,
   "id": "7cd05d3a",
   "metadata": {},
   "outputs": [
    {
     "data": {
      "text/html": [
       "<div>\n",
       "<style scoped>\n",
       "    .dataframe tbody tr th:only-of-type {\n",
       "        vertical-align: middle;\n",
       "    }\n",
       "\n",
       "    .dataframe tbody tr th {\n",
       "        vertical-align: top;\n",
       "    }\n",
       "\n",
       "    .dataframe thead th {\n",
       "        text-align: right;\n",
       "    }\n",
       "</style>\n",
       "<table border=\"1\" class=\"dataframe\">\n",
       "  <thead>\n",
       "    <tr style=\"text-align: right;\">\n",
       "      <th></th>\n",
       "      <th>id</th>\n",
       "      <th>state</th>\n",
       "      <th>stop_date</th>\n",
       "      <th>stop_time</th>\n",
       "      <th>location_raw</th>\n",
       "      <th>county_name</th>\n",
       "      <th>county_fips</th>\n",
       "      <th>fine_grained_location</th>\n",
       "      <th>police_department</th>\n",
       "      <th>driver_gender</th>\n",
       "      <th>driver_age_raw</th>\n",
       "      <th>driver_age</th>\n",
       "      <th>driver_race_raw</th>\n",
       "      <th>driver_race</th>\n",
       "      <th>violation_raw</th>\n",
       "      <th>violation</th>\n",
       "      <th>search_conducted</th>\n",
       "      <th>search_type_raw</th>\n",
       "      <th>search_type</th>\n",
       "      <th>contraband_found</th>\n",
       "      <th>stop_outcome</th>\n",
       "      <th>is_arrested</th>\n",
       "      <th>stop_duration</th>\n",
       "      <th>out_of_state</th>\n",
       "      <th>drugs_related_stop</th>\n",
       "      <th>district</th>\n",
       "    </tr>\n",
       "  </thead>\n",
       "  <tbody>\n",
       "    <tr>\n",
       "      <th>0</th>\n",
       "      <td>RI-2005-00001</td>\n",
       "      <td>RI</td>\n",
       "      <td>2005-01-02</td>\n",
       "      <td>01:55</td>\n",
       "      <td>Zone K1</td>\n",
       "      <td>NaN</td>\n",
       "      <td>NaN</td>\n",
       "      <td>NaN</td>\n",
       "      <td>600</td>\n",
       "      <td>M</td>\n",
       "      <td>1985.0</td>\n",
       "      <td>20.0</td>\n",
       "      <td>W</td>\n",
       "      <td>White</td>\n",
       "      <td>Speeding</td>\n",
       "      <td>Speeding</td>\n",
       "      <td>False</td>\n",
       "      <td>NaN</td>\n",
       "      <td>NaN</td>\n",
       "      <td>False</td>\n",
       "      <td>Citation</td>\n",
       "      <td>False</td>\n",
       "      <td>0-15 Min</td>\n",
       "      <td>False</td>\n",
       "      <td>False</td>\n",
       "      <td>Zone K1</td>\n",
       "    </tr>\n",
       "    <tr>\n",
       "      <th>1</th>\n",
       "      <td>RI-2005-00002</td>\n",
       "      <td>RI</td>\n",
       "      <td>2005-01-02</td>\n",
       "      <td>20:30</td>\n",
       "      <td>Zone X4</td>\n",
       "      <td>NaN</td>\n",
       "      <td>NaN</td>\n",
       "      <td>NaN</td>\n",
       "      <td>500</td>\n",
       "      <td>M</td>\n",
       "      <td>1987.0</td>\n",
       "      <td>18.0</td>\n",
       "      <td>W</td>\n",
       "      <td>White</td>\n",
       "      <td>Speeding</td>\n",
       "      <td>Speeding</td>\n",
       "      <td>False</td>\n",
       "      <td>NaN</td>\n",
       "      <td>NaN</td>\n",
       "      <td>False</td>\n",
       "      <td>Citation</td>\n",
       "      <td>False</td>\n",
       "      <td>16-30 Min</td>\n",
       "      <td>False</td>\n",
       "      <td>False</td>\n",
       "      <td>Zone X4</td>\n",
       "    </tr>\n",
       "    <tr>\n",
       "      <th>2</th>\n",
       "      <td>RI-2005-00003</td>\n",
       "      <td>RI</td>\n",
       "      <td>2005-01-04</td>\n",
       "      <td>11:30</td>\n",
       "      <td>Zone X1</td>\n",
       "      <td>NaN</td>\n",
       "      <td>NaN</td>\n",
       "      <td>NaN</td>\n",
       "      <td>0</td>\n",
       "      <td>NaN</td>\n",
       "      <td>NaN</td>\n",
       "      <td>NaN</td>\n",
       "      <td>NaN</td>\n",
       "      <td>NaN</td>\n",
       "      <td>NaN</td>\n",
       "      <td>NaN</td>\n",
       "      <td>False</td>\n",
       "      <td>NaN</td>\n",
       "      <td>NaN</td>\n",
       "      <td>False</td>\n",
       "      <td>NaN</td>\n",
       "      <td>NaN</td>\n",
       "      <td>NaN</td>\n",
       "      <td>NaN</td>\n",
       "      <td>False</td>\n",
       "      <td>Zone X1</td>\n",
       "    </tr>\n",
       "    <tr>\n",
       "      <th>3</th>\n",
       "      <td>RI-2005-00004</td>\n",
       "      <td>RI</td>\n",
       "      <td>2005-01-04</td>\n",
       "      <td>12:55</td>\n",
       "      <td>Zone X4</td>\n",
       "      <td>NaN</td>\n",
       "      <td>NaN</td>\n",
       "      <td>NaN</td>\n",
       "      <td>500</td>\n",
       "      <td>M</td>\n",
       "      <td>1986.0</td>\n",
       "      <td>19.0</td>\n",
       "      <td>W</td>\n",
       "      <td>White</td>\n",
       "      <td>Equipment/Inspection Violation</td>\n",
       "      <td>Equipment</td>\n",
       "      <td>False</td>\n",
       "      <td>NaN</td>\n",
       "      <td>NaN</td>\n",
       "      <td>False</td>\n",
       "      <td>Citation</td>\n",
       "      <td>False</td>\n",
       "      <td>0-15 Min</td>\n",
       "      <td>False</td>\n",
       "      <td>False</td>\n",
       "      <td>Zone X4</td>\n",
       "    </tr>\n",
       "    <tr>\n",
       "      <th>4</th>\n",
       "      <td>RI-2005-00005</td>\n",
       "      <td>RI</td>\n",
       "      <td>2005-01-06</td>\n",
       "      <td>01:30</td>\n",
       "      <td>Zone X4</td>\n",
       "      <td>NaN</td>\n",
       "      <td>NaN</td>\n",
       "      <td>NaN</td>\n",
       "      <td>500</td>\n",
       "      <td>M</td>\n",
       "      <td>1978.0</td>\n",
       "      <td>27.0</td>\n",
       "      <td>B</td>\n",
       "      <td>Black</td>\n",
       "      <td>Equipment/Inspection Violation</td>\n",
       "      <td>Equipment</td>\n",
       "      <td>False</td>\n",
       "      <td>NaN</td>\n",
       "      <td>NaN</td>\n",
       "      <td>False</td>\n",
       "      <td>Citation</td>\n",
       "      <td>False</td>\n",
       "      <td>0-15 Min</td>\n",
       "      <td>False</td>\n",
       "      <td>False</td>\n",
       "      <td>Zone X4</td>\n",
       "    </tr>\n",
       "  </tbody>\n",
       "</table>\n",
       "</div>"
      ],
      "text/plain": [
       "              id state   stop_date stop_time location_raw  county_name  \\\n",
       "0  RI-2005-00001    RI  2005-01-02     01:55      Zone K1          NaN   \n",
       "1  RI-2005-00002    RI  2005-01-02     20:30      Zone X4          NaN   \n",
       "2  RI-2005-00003    RI  2005-01-04     11:30      Zone X1          NaN   \n",
       "3  RI-2005-00004    RI  2005-01-04     12:55      Zone X4          NaN   \n",
       "4  RI-2005-00005    RI  2005-01-06     01:30      Zone X4          NaN   \n",
       "\n",
       "   county_fips  fine_grained_location police_department driver_gender  \\\n",
       "0          NaN                    NaN               600             M   \n",
       "1          NaN                    NaN               500             M   \n",
       "2          NaN                    NaN                 0           NaN   \n",
       "3          NaN                    NaN               500             M   \n",
       "4          NaN                    NaN               500             M   \n",
       "\n",
       "   driver_age_raw  driver_age driver_race_raw driver_race  \\\n",
       "0          1985.0        20.0               W       White   \n",
       "1          1987.0        18.0               W       White   \n",
       "2             NaN         NaN             NaN         NaN   \n",
       "3          1986.0        19.0               W       White   \n",
       "4          1978.0        27.0               B       Black   \n",
       "\n",
       "                    violation_raw  violation search_conducted search_type_raw  \\\n",
       "0                        Speeding   Speeding            False             NaN   \n",
       "1                        Speeding   Speeding            False             NaN   \n",
       "2                             NaN        NaN            False             NaN   \n",
       "3  Equipment/Inspection Violation  Equipment            False             NaN   \n",
       "4  Equipment/Inspection Violation  Equipment            False             NaN   \n",
       "\n",
       "  search_type  contraband_found stop_outcome is_arrested stop_duration  \\\n",
       "0         NaN             False     Citation       False      0-15 Min   \n",
       "1         NaN             False     Citation       False     16-30 Min   \n",
       "2         NaN             False          NaN         NaN           NaN   \n",
       "3         NaN             False     Citation       False      0-15 Min   \n",
       "4         NaN             False     Citation       False      0-15 Min   \n",
       "\n",
       "  out_of_state  drugs_related_stop district  \n",
       "0        False               False  Zone K1  \n",
       "1        False               False  Zone X4  \n",
       "2          NaN               False  Zone X1  \n",
       "3        False               False  Zone X4  \n",
       "4        False               False  Zone X4  "
      ]
     },
     "execution_count": 4,
     "metadata": {},
     "output_type": "execute_result"
    }
   ],
   "source": [
    "df.head()"
   ]
  },
  {
   "cell_type": "code",
   "execution_count": 5,
   "id": "f978f113",
   "metadata": {},
   "outputs": [
    {
     "data": {
      "text/plain": [
       "id                            0\n",
       "state                         0\n",
       "stop_date                    10\n",
       "stop_time                    10\n",
       "location_raw                  0\n",
       "county_name              509681\n",
       "county_fips              509681\n",
       "fine_grained_location    509681\n",
       "police_department            10\n",
       "driver_gender             29097\n",
       "driver_age_raw            29049\n",
       "driver_age                30695\n",
       "driver_race_raw           29073\n",
       "driver_race               29073\n",
       "violation_raw             29073\n",
       "violation                 29073\n",
       "search_conducted             10\n",
       "search_type_raw          491919\n",
       "search_type              491919\n",
       "contraband_found              0\n",
       "stop_outcome              29073\n",
       "is_arrested               29073\n",
       "stop_duration             29073\n",
       "out_of_state              29881\n",
       "drugs_related_stop            0\n",
       "district                      0\n",
       "dtype: int64"
      ]
     },
     "execution_count": 5,
     "metadata": {},
     "output_type": "execute_result"
    }
   ],
   "source": [
    "df.isnull().sum()"
   ]
  },
  {
   "cell_type": "markdown",
   "id": "ba08246b",
   "metadata": {},
   "source": [
    "***"
   ]
  },
  {
   "cell_type": "markdown",
   "id": "a2cb00c6",
   "metadata": {},
   "source": [
    "There are so many missing values. Also some columns does not usefull to my analysis. I will drop ``county_name`` , ``county_fips``, ``fine_grained_location`` because they only contains missing values. I will also drop ``state`` column because all traffic stops took place in one state which is Rhode Island. Let's drop those columns."
   ]
  },
  {
   "cell_type": "markdown",
   "id": "efe015f8",
   "metadata": {},
   "source": [
    "***"
   ]
  },
  {
   "cell_type": "code",
   "execution_count": 6,
   "id": "6ea9f956",
   "metadata": {},
   "outputs": [],
   "source": [
    "df = df.drop(columns=[\"county_name\", \"state\", \"fine_grained_location\", \"county_fips\"])"
   ]
  },
  {
   "cell_type": "code",
   "execution_count": 7,
   "id": "79ffc462",
   "metadata": {},
   "outputs": [
    {
     "data": {
      "text/plain": [
       "(509681, 22)"
      ]
     },
     "execution_count": 7,
     "metadata": {},
     "output_type": "execute_result"
    }
   ],
   "source": [
    "df.shape"
   ]
  },
  {
   "cell_type": "markdown",
   "id": "755f5036",
   "metadata": {},
   "source": [
    "***"
   ]
  },
  {
   "cell_type": "markdown",
   "id": "55770bc2",
   "metadata": {},
   "source": [
    "When you know that a specific column will be critical to your analysis, and only a small fraction of rows are missing a value in that column, it often makes sense to remove those rows from the dataset.\n",
    "\n",
    "During this analysis, the ``driver_gender`` column will be critical to many of my analyses. Because only a small fraction of rows are missing ``driver_gender``, I'll drop those rows from the dataset."
   ]
  },
  {
   "cell_type": "markdown",
   "id": "b1a7156b",
   "metadata": {},
   "source": [
    "***"
   ]
  },
  {
   "cell_type": "code",
   "execution_count": 8,
   "id": "633953f0",
   "metadata": {},
   "outputs": [
    {
     "data": {
      "text/plain": [
       "id                         0\n",
       "stop_date                  0\n",
       "stop_time                  0\n",
       "location_raw               0\n",
       "police_department          0\n",
       "driver_gender              0\n",
       "driver_age_raw             1\n",
       "driver_age              1638\n",
       "driver_race_raw            0\n",
       "driver_race                0\n",
       "violation_raw              0\n",
       "violation                  0\n",
       "search_conducted           0\n",
       "search_type_raw       462822\n",
       "search_type           462822\n",
       "contraband_found           0\n",
       "stop_outcome               0\n",
       "is_arrested                0\n",
       "stop_duration              0\n",
       "out_of_state             808\n",
       "drugs_related_stop         0\n",
       "district                   0\n",
       "dtype: int64"
      ]
     },
     "execution_count": 8,
     "metadata": {},
     "output_type": "execute_result"
    }
   ],
   "source": [
    "df = df.dropna(axis=0, subset=[\"driver_gender\"])\n",
    "df.isnull().sum()"
   ]
  },
  {
   "cell_type": "code",
   "execution_count": 9,
   "id": "eefd38c9",
   "metadata": {},
   "outputs": [
    {
     "data": {
      "text/plain": [
       "(480584, 22)"
      ]
     },
     "execution_count": 9,
     "metadata": {},
     "output_type": "execute_result"
    }
   ],
   "source": [
    "df.shape"
   ]
  },
  {
   "cell_type": "markdown",
   "id": "63ddacd4",
   "metadata": {},
   "source": [
    "***"
   ]
  },
  {
   "cell_type": "markdown",
   "id": "2b37244b",
   "metadata": {},
   "source": [
    "## Fixing a data type\n",
    "\n",
    "We know that the ``is_arrested`` column currently has the ``object`` data type. In this analysis, I'll change the data type to ``bool``, which is the most suitable type for a column containing ``True`` and ``False`` values.\n",
    "\n",
    "Fixing the data type will enable us to use mathematical operations on the ``is_arrested`` column that would not be possible otherwise."
   ]
  },
  {
   "cell_type": "markdown",
   "id": "3cea5e4b",
   "metadata": {},
   "source": [
    "***"
   ]
  },
  {
   "cell_type": "code",
   "execution_count": 10,
   "id": "ee75c3fd",
   "metadata": {},
   "outputs": [
    {
     "data": {
      "text/plain": [
       "0         False\n",
       "1         False\n",
       "3         False\n",
       "4         False\n",
       "5         False\n",
       "          ...  \n",
       "509666    False\n",
       "509667    False\n",
       "509668    False\n",
       "509669    False\n",
       "509670    False\n",
       "Name: is_arrested, Length: 480584, dtype: bool"
      ]
     },
     "execution_count": 10,
     "metadata": {},
     "output_type": "execute_result"
    }
   ],
   "source": [
    "df[\"is_arrested\"] = df[\"is_arrested\"].astype(\"bool\")\n",
    "df[\"is_arrested\"]"
   ]
  },
  {
   "cell_type": "markdown",
   "id": "dc216c94",
   "metadata": {},
   "source": [
    "***"
   ]
  },
  {
   "cell_type": "markdown",
   "id": "17770965",
   "metadata": {},
   "source": [
    "## Combining object columns\n",
    "\n",
    "Currently, the date and time of each traffic stop are stored in separate object columns: ``stop_date`` and ``stop_time``.\n",
    "\n",
    "I'll combine these two columns into a single column, and then convert it to ``datetime`` format. This will enable convenient date-based attributes that I'll use later in the course."
   ]
  },
  {
   "cell_type": "markdown",
   "id": "edd2df34",
   "metadata": {},
   "source": [
    "***"
   ]
  },
  {
   "cell_type": "code",
   "execution_count": 11,
   "id": "7f784ae4",
   "metadata": {},
   "outputs": [
    {
     "data": {
      "text/plain": [
       "0        2005-01-02 01:55:00\n",
       "1        2005-01-02 20:30:00\n",
       "3        2005-01-04 12:55:00\n",
       "4        2005-01-06 01:30:00\n",
       "5        2005-01-12 08:05:00\n",
       "                 ...        \n",
       "509666   2015-12-31 22:46:00\n",
       "509667   2015-12-31 22:47:00\n",
       "509668   2015-12-31 23:08:00\n",
       "509669   2015-12-31 23:44:00\n",
       "509670   2015-12-31 23:48:00\n",
       "Name: stop_datetime, Length: 480584, dtype: datetime64[ns]"
      ]
     },
     "execution_count": 11,
     "metadata": {},
     "output_type": "execute_result"
    }
   ],
   "source": [
    "df[\"stop_datetime\"] = pd.to_datetime(df[\"stop_date\"] + \" \" + df[\"stop_time\"])\n",
    "df[\"stop_datetime\"]"
   ]
  },
  {
   "cell_type": "markdown",
   "id": "d1b41db1",
   "metadata": {},
   "source": [
    "***"
   ]
  },
  {
   "cell_type": "markdown",
   "id": "3231d340",
   "metadata": {},
   "source": [
    "Now let's set ``stop_datetime`` column as the DataFrame's index."
   ]
  },
  {
   "cell_type": "markdown",
   "id": "1062bee3",
   "metadata": {},
   "source": [
    "***"
   ]
  },
  {
   "cell_type": "code",
   "execution_count": 12,
   "id": "5b552877",
   "metadata": {},
   "outputs": [
    {
     "data": {
      "text/plain": [
       "Index(['id', 'stop_date', 'stop_time', 'location_raw', 'police_department',\n",
       "       'driver_gender', 'driver_age_raw', 'driver_age', 'driver_race_raw',\n",
       "       'driver_race', 'violation_raw', 'violation', 'search_conducted',\n",
       "       'search_type_raw', 'search_type', 'contraband_found', 'stop_outcome',\n",
       "       'is_arrested', 'stop_duration', 'out_of_state', 'drugs_related_stop',\n",
       "       'district'],\n",
       "      dtype='object')"
      ]
     },
     "execution_count": 12,
     "metadata": {},
     "output_type": "execute_result"
    }
   ],
   "source": [
    "df = df.set_index(\"stop_datetime\")\n",
    "df.columns"
   ]
  },
  {
   "cell_type": "markdown",
   "id": "9dbaf699",
   "metadata": {},
   "source": [
    "***"
   ]
  },
  {
   "cell_type": "markdown",
   "id": "0c9b01b2",
   "metadata": {},
   "source": [
    "We are ready to start finding answers to our questions.\n",
    "\n",
    "\n",
    "Let's start with gender. Does the gender of a driver have an impact on police behavior during a traffic stop? We will explore that question while practicing **filtering, grouping, method chaining, Boolean math, string methods, and more!**"
   ]
  },
  {
   "cell_type": "markdown",
   "id": "dc0b8101",
   "metadata": {},
   "source": [
    "## Examining traffic violations\n",
    "\n",
    "Let's count the unique values in the ``violation`` column, to see what violations are being committed by all drivers."
   ]
  },
  {
   "cell_type": "markdown",
   "id": "f31dc167",
   "metadata": {},
   "source": [
    "***"
   ]
  },
  {
   "cell_type": "code",
   "execution_count": 13,
   "id": "c0111a01",
   "metadata": {},
   "outputs": [
    {
     "data": {
      "text/plain": [
       "Speeding               268736\n",
       "Moving violation        90228\n",
       "Equipment               61250\n",
       "Other                   24216\n",
       "Registration/plates     19830\n",
       "Seat belt               16324\n",
       "Name: violation, dtype: int64"
      ]
     },
     "execution_count": 13,
     "metadata": {},
     "output_type": "execute_result"
    }
   ],
   "source": [
    "df[\"violation\"].value_counts()"
   ]
  },
  {
   "cell_type": "markdown",
   "id": "46f5b65d",
   "metadata": {},
   "source": [
    "***"
   ]
  },
  {
   "cell_type": "markdown",
   "id": "4c6e68e8",
   "metadata": {},
   "source": [
    "## Comparing violations by gender\n",
    "\n",
    "The question we're trying to answer is whether male and female drivers tend to commit different types of traffic violations.\n",
    "\n",
    "I'll first create a DataFrame for each gender, and then analyze the ``violations`` in each DataFrame separately."
   ]
  },
  {
   "cell_type": "markdown",
   "id": "2cc50b1d",
   "metadata": {},
   "source": [
    "***"
   ]
  },
  {
   "cell_type": "code",
   "execution_count": 14,
   "id": "1ce92d94",
   "metadata": {},
   "outputs": [],
   "source": [
    "female_drivers = df[df[\"driver_gender\"] == \"F\"]\n",
    "male_drivers = df[df[\"driver_gender\"] == \"M\"]"
   ]
  },
  {
   "cell_type": "code",
   "execution_count": 15,
   "id": "1298178b",
   "metadata": {},
   "outputs": [
    {
     "data": {
      "text/plain": [
       "Speeding               65.730757\n",
       "Moving violation       13.658131\n",
       "Equipment              10.705516\n",
       "Registration/plates     4.307676\n",
       "Other                   2.890848\n",
       "Seat belt               2.707072\n",
       "Name: violation, dtype: float64"
      ]
     },
     "execution_count": 15,
     "metadata": {},
     "output_type": "execute_result"
    }
   ],
   "source": [
    "female_drivers[\"violation\"].value_counts(normalize=True) * 100"
   ]
  },
  {
   "cell_type": "code",
   "execution_count": 16,
   "id": "81c0aa9b",
   "metadata": {},
   "outputs": [
    {
     "data": {
      "text/plain": [
       "Speeding               52.236397\n",
       "Moving violation       20.694757\n",
       "Equipment              13.510242\n",
       "Other                   5.844966\n",
       "Registration/plates     4.058138\n",
       "Seat belt               3.655500\n",
       "Name: violation, dtype: float64"
      ]
     },
     "execution_count": 16,
     "metadata": {},
     "output_type": "execute_result"
    }
   ],
   "source": [
    "male_drivers[\"violation\"].value_counts(normalize=True) * 100"
   ]
  },
  {
   "cell_type": "markdown",
   "id": "036ffa71",
   "metadata": {},
   "source": [
    "***"
   ]
  },
  {
   "cell_type": "markdown",
   "id": "9a41c753",
   "metadata": {},
   "source": [
    "Female drivers tend to commit speeding %13 more than male drivers. But what about outcomes? Let's work on comparing speeding outcomes by gender.\n",
    "\n",
    "\n",
    "## Comparing speeding outcomes by gender\n",
    "\n",
    "When a driver is pulled over for speeding, many people believe that gender has an impact on whether the driver will receive a ticket or a warning. Can we find evidence of this in the dataset?\n",
    "\n",
    "First, let's create two ``DataFrames`` of drivers who were stopped for ``speeding``: one containing ***females*** and the other containing ***males***.\n",
    "\n",
    "Then, for each **gender**, I'll use the ``stop_outcome`` column to calculate what percentage of stops resulted in a ``\"Citation\"`` (meaning a ticket) versus a ``\"Warning\"``."
   ]
  },
  {
   "cell_type": "markdown",
   "id": "ad61adbb",
   "metadata": {},
   "source": [
    "***"
   ]
  },
  {
   "cell_type": "code",
   "execution_count": 17,
   "id": "ab62b211",
   "metadata": {},
   "outputs": [],
   "source": [
    "female_speeding = female_drivers[female_drivers[\"violation\"] == \"Speeding\"]\n",
    "male_speeding = male_drivers[male_drivers[\"violation\"] == \"Speeding\"]"
   ]
  },
  {
   "cell_type": "code",
   "execution_count": 18,
   "id": "d9a88615",
   "metadata": {},
   "outputs": [
    {
     "data": {
      "text/plain": [
       "Citation            95.324718\n",
       "Warning              3.900323\n",
       "Arrest Driver        0.529015\n",
       "Arrest Passenger     0.103251\n",
       "N/D                  0.090489\n",
       "No Action            0.052205\n",
       "Name: stop_outcome, dtype: float64"
      ]
     },
     "execution_count": 18,
     "metadata": {},
     "output_type": "execute_result"
    }
   ],
   "source": [
    "female_speeding[\"stop_outcome\"].value_counts(normalize=True) * 100"
   ]
  },
  {
   "cell_type": "code",
   "execution_count": 19,
   "id": "f538a0fe",
   "metadata": {},
   "outputs": [
    {
     "data": {
      "text/plain": [
       "Citation            94.463619\n",
       "Warning              3.608564\n",
       "Arrest Driver        1.576658\n",
       "Arrest Passenger     0.126549\n",
       "N/D                  0.118332\n",
       "No Action            0.106279\n",
       "Name: stop_outcome, dtype: float64"
      ]
     },
     "execution_count": 19,
     "metadata": {},
     "output_type": "execute_result"
    }
   ],
   "source": [
    "male_speeding[\"stop_outcome\"].value_counts(normalize=True) * 100"
   ]
  },
  {
   "cell_type": "markdown",
   "id": "7ae49695",
   "metadata": {},
   "source": [
    "***"
   ]
  },
  {
   "cell_type": "markdown",
   "id": "3f52917f",
   "metadata": {},
   "source": [
    "Although Citation and Warning is fairly close to each other, Arrest Driver is almost three times more for male drivers. Given our sample size, this may lead to conclusion about outcomes of speeding by gender. Now, let's dive into search rate."
   ]
  },
  {
   "cell_type": "markdown",
   "id": "418fd45f",
   "metadata": {},
   "source": [
    "## Calculating the search rate\n",
    "\n",
    "During a traffic stop, the police officer sometimes conducts a search of the vehicle. Let's calculate the percentage of all stops that result in a vehicle search, also known as the **search rate**.\n",
    "\n",
    "\n",
    "Firstly I'll change the data type of `search_conducted` column to Boolean Series."
   ]
  },
  {
   "cell_type": "markdown",
   "id": "17caea44",
   "metadata": {},
   "source": [
    "***"
   ]
  },
  {
   "cell_type": "code",
   "execution_count": 20,
   "id": "f5dfc2b1",
   "metadata": {},
   "outputs": [],
   "source": [
    "df[\"search_conducted\"] = df[\"search_conducted\"].astype(\"bool\")"
   ]
  },
  {
   "cell_type": "code",
   "execution_count": 21,
   "id": "73aff659",
   "metadata": {},
   "outputs": [
    {
     "data": {
      "text/plain": [
       "False    96.304\n",
       "True      3.696\n",
       "Name: search_conducted, dtype: float64"
      ]
     },
     "execution_count": 21,
     "metadata": {},
     "output_type": "execute_result"
    }
   ],
   "source": [
    "round(df[\"search_conducted\"].value_counts(normalize=True) * 100, 3)"
   ]
  },
  {
   "cell_type": "markdown",
   "id": "32ea6c0b",
   "metadata": {},
   "source": [
    "***"
   ]
  },
  {
   "cell_type": "markdown",
   "id": "665261d3",
   "metadata": {},
   "source": [
    "Most of the stops does not end up to a search conducted. But is this the case for both male and female drivers? Let's compare search rates by gender to answer this question."
   ]
  },
  {
   "cell_type": "markdown",
   "id": "e0984068",
   "metadata": {},
   "source": [
    "## Comparing search rates by gender\n",
    "\n",
    "I will compare the rates at which **female** and **male** drivers are searched during a traffic stop. Remember that the vehicle search rate across all stops is about **3.8%**.\n",
    "\n",
    "First, I'll filter the ``DataFrame`` by gender and calculate the search rate for each group separately. Then, I'll perform the same calculation for both genders at once using a ``.groupby()``."
   ]
  },
  {
   "cell_type": "markdown",
   "id": "e655bf16",
   "metadata": {},
   "source": [
    "***"
   ]
  },
  {
   "cell_type": "code",
   "execution_count": 22,
   "id": "689a15f4",
   "metadata": {},
   "outputs": [
    {
     "data": {
      "text/plain": [
       "False    98.125\n",
       "True      1.875\n",
       "Name: search_conducted, dtype: float64"
      ]
     },
     "execution_count": 22,
     "metadata": {},
     "output_type": "execute_result"
    }
   ],
   "source": [
    "round(female_drivers[\"search_conducted\"].value_counts(normalize=True) * 100, 3)"
   ]
  },
  {
   "cell_type": "markdown",
   "id": "db2f1c8a",
   "metadata": {},
   "source": [
    "***"
   ]
  },
  {
   "cell_type": "markdown",
   "id": "7997a0e8",
   "metadata": {},
   "source": [
    "%1,875 of the speeding stops ends up to a search for female drivers. What is the case for male drivers?"
   ]
  },
  {
   "cell_type": "markdown",
   "id": "52fcabba",
   "metadata": {},
   "source": [
    "***"
   ]
  },
  {
   "cell_type": "code",
   "execution_count": 23,
   "id": "c6468353",
   "metadata": {},
   "outputs": [
    {
     "data": {
      "text/plain": [
       "False    95.621\n",
       "True      4.379\n",
       "Name: search_conducted, dtype: float64"
      ]
     },
     "execution_count": 23,
     "metadata": {},
     "output_type": "execute_result"
    }
   ],
   "source": [
    "round(male_drivers[\"search_conducted\"].value_counts(normalize=True) * 100, 3)"
   ]
  },
  {
   "cell_type": "code",
   "execution_count": 24,
   "id": "0352e0ac",
   "metadata": {
    "scrolled": true
   },
   "outputs": [
    {
     "data": {
      "text/plain": [
       "driver_gender\n",
       "F    1.875\n",
       "M    4.379\n",
       "Name: search_conducted, dtype: float64"
      ]
     },
     "execution_count": 24,
     "metadata": {},
     "output_type": "execute_result"
    }
   ],
   "source": [
    "round(df.groupby(\"driver_gender\")[\"search_conducted\"].mean() * 100, 3)"
   ]
  },
  {
   "cell_type": "markdown",
   "id": "d6f37f8d",
   "metadata": {},
   "source": [
    "***"
   ]
  },
  {
   "cell_type": "markdown",
   "id": "1d8f4718",
   "metadata": {},
   "source": [
    "%1,875 of the speeding stops ends up to a search for male drivers. That is more than two times compared to female drivers. Is this mean male drivers getting searched more just because of their gender? Or is there another reason? Let's add a second factor to the analysis."
   ]
  },
  {
   "cell_type": "markdown",
   "id": "6fca69c6",
   "metadata": {},
   "source": [
    "***"
   ]
  },
  {
   "cell_type": "markdown",
   "id": "269eda36",
   "metadata": {},
   "source": [
    "## Adding a second factor to the analysis\n",
    "\n",
    "\n",
    "Even though the search rate for males is much higher than for females, it's possible that the difference is mostly due to a second factor.\n",
    "\n",
    "For example, we might hypothesize that the search rate varies by violation type, and the difference in search rate between males and females is because they tend to commit different violations.\n",
    "\n",
    "We can test this hypothesis by examining the search rate for each combination of gender and violation. If the hypothesis was true, we would find that males and females are searched at about the same rate for each violation. Let's find out below if that's the case!"
   ]
  },
  {
   "cell_type": "markdown",
   "id": "1d52b036",
   "metadata": {},
   "source": [
    "***"
   ]
  },
  {
   "cell_type": "code",
   "execution_count": 25,
   "id": "342ddb6e",
   "metadata": {},
   "outputs": [
    {
     "data": {
      "text/plain": [
       "driver_gender  violation          \n",
       "F              Equipment              0.040245\n",
       "               Moving violation       0.038021\n",
       "               Other                  0.045898\n",
       "               Registration/plates    0.054700\n",
       "               Seat belt              0.017746\n",
       "               Speeding               0.007738\n",
       "M              Equipment              0.070916\n",
       "               Moving violation       0.059156\n",
       "               Other                  0.046120\n",
       "               Registration/plates    0.103589\n",
       "               Seat belt              0.031705\n",
       "               Speeding               0.026630\n",
       "Name: search_conducted, dtype: float64"
      ]
     },
     "execution_count": 25,
     "metadata": {},
     "output_type": "execute_result"
    }
   ],
   "source": [
    "df.groupby([\"driver_gender\", \"violation\"])[\"search_conducted\"].mean()"
   ]
  },
  {
   "cell_type": "code",
   "execution_count": 26,
   "id": "6a7c2dc9",
   "metadata": {},
   "outputs": [
    {
     "data": {
      "text/plain": [
       "violation            driver_gender\n",
       "Equipment            F                0.040245\n",
       "                     M                0.070916\n",
       "Moving violation     F                0.038021\n",
       "                     M                0.059156\n",
       "Other                F                0.045898\n",
       "                     M                0.046120\n",
       "Registration/plates  F                0.054700\n",
       "                     M                0.103589\n",
       "Seat belt            F                0.017746\n",
       "                     M                0.031705\n",
       "Speeding             F                0.007738\n",
       "                     M                0.026630\n",
       "Name: search_conducted, dtype: float64"
      ]
     },
     "execution_count": 26,
     "metadata": {},
     "output_type": "execute_result"
    }
   ],
   "source": [
    "df.groupby([\"violation\", \"driver_gender\"])[\"search_conducted\"].mean()"
   ]
  },
  {
   "cell_type": "markdown",
   "id": "764f2e86",
   "metadata": {},
   "source": [
    "***"
   ]
  },
  {
   "cell_type": "markdown",
   "id": "17ebe21b",
   "metadata": {},
   "source": [
    "As we can see better by those results, whatever the reason for the stop, police tend to conduct a search to male drivers so much more than female drivers. That is our first conclusion so far in this explanatory data analysis. Now let's jump into another analysis about ``search_conducted`` column."
   ]
  },
  {
   "cell_type": "markdown",
   "id": "86a19324",
   "metadata": {},
   "source": [
    "## Counting protective frisks\n",
    "\n",
    "\n",
    "During a vehicle search, the police officer may pat down the driver to check if they have a weapon. This is known as a ``\"protective frisk.\"``\n",
    "\n",
    "I'll first check to see how many times \"Protective Frisk\" was the only search type. Then, I'll use a string method to locate all instances in which the driver was frisked."
   ]
  },
  {
   "cell_type": "markdown",
   "id": "b978a881",
   "metadata": {},
   "source": [
    "***"
   ]
  },
  {
   "cell_type": "code",
   "execution_count": 27,
   "id": "348f638a",
   "metadata": {},
   "outputs": [
    {
     "name": "stdout",
     "output_type": "stream",
     "text": [
      "879 times ``Protective Frisk`` was the only search type.\n"
     ]
    }
   ],
   "source": [
    "print(f'{len(df[df[\"search_type\"] == \"Protective Frisk\"])} times ``Protective Frisk`` was the only search type.')"
   ]
  },
  {
   "cell_type": "code",
   "execution_count": 28,
   "id": "760176b1",
   "metadata": {},
   "outputs": [
    {
     "data": {
      "text/plain": [
       "False    99.667\n",
       "True      0.333\n",
       "Name: frisk, dtype: float64"
      ]
     },
     "execution_count": 28,
     "metadata": {},
     "output_type": "execute_result"
    }
   ],
   "source": [
    "df[\"frisk\"] = df[\"search_type\"].str.contains(\"Protective Frisk\", na=False, case=False)\n",
    "round(df[\"frisk\"].value_counts(normalize=True) * 100, 3)"
   ]
  },
  {
   "cell_type": "markdown",
   "id": "00de02fa",
   "metadata": {},
   "source": [
    "***"
   ]
  },
  {
   "cell_type": "markdown",
   "id": "7827d87a",
   "metadata": {},
   "source": [
    "In 300 searches only 1 search included ``Protective Frisk`` as only or one of search type. What about frisk rates by gender?"
   ]
  },
  {
   "cell_type": "markdown",
   "id": "ab1d1ec8",
   "metadata": {},
   "source": [
    "## Comparing frisk rates by gender\n",
    "\n",
    "\n",
    "I'll compare the rates at which female and male drivers are frisked during a search. Are males frisked more often than females, perhaps because police officers consider them to be higher risk?\n",
    "\n",
    "Before doing any calculations, it's important to filter the ``DataFrame`` to only include the relevant subset of data, namely stops in which a search was conducted."
   ]
  },
  {
   "cell_type": "markdown",
   "id": "f9b18da7",
   "metadata": {},
   "source": [
    "***"
   ]
  },
  {
   "cell_type": "code",
   "execution_count": 29,
   "id": "c4863f82",
   "metadata": {},
   "outputs": [
    {
     "data": {
      "text/plain": [
       "driver_gender\n",
       "F    6.669\n",
       "M    9.371\n",
       "Name: frisk, dtype: float64"
      ]
     },
     "execution_count": 29,
     "metadata": {},
     "output_type": "execute_result"
    }
   ],
   "source": [
    "search_true =df[df[\"search_conducted\"] == True]\n",
    "round(search_true.groupby(\"driver_gender\")[\"frisk\"].mean() * 100, 3)"
   ]
  },
  {
   "cell_type": "markdown",
   "id": "e9e1be13",
   "metadata": {},
   "source": [
    "Again male drivers getting more searches for frisk. We proved that gender has an huge impact. \n",
    "\n",
    "\n",
    "Now let's calculate hourly arrest rate. Does the hour of the day has an impact on arrest rate? Let's find out!"
   ]
  },
  {
   "cell_type": "markdown",
   "id": "61feea2f",
   "metadata": {},
   "source": [
    "## Calculating the hourly arrest rate\n",
    "\n",
    "Are you more likely to get arrested at a certain time of day? Are drug-related stops on the rise? In this part of our analysis, we will answer these and other questions by analyzing the dataset visually, since plots can help us to understand trends in a way that examining the raw data cannot.\n",
    "\n",
    "When a police officer stops a driver, a small percentage of those stops ends in an arrest. This is known as the **arrest rate**. Let's find out whether the arrest rate varies by time of day.\n",
    "\n",
    "First, I'll calculate the arrest rate across all stops. Then, I'll calculate the **hourly arrest rate** by using the ``hour`` attribute of the ``index``. The hour ranges from ``0`` to ``23``, in which:\n",
    "\n",
    "``0 = midnight``<br>\n",
    "``12 = noon`` <br>\n",
    "``23 = 11 PM``\n"
   ]
  },
  {
   "cell_type": "markdown",
   "id": "e0438639",
   "metadata": {},
   "source": [
    "***"
   ]
  },
  {
   "cell_type": "code",
   "execution_count": 30,
   "id": "2eb5159d",
   "metadata": {},
   "outputs": [
    {
     "data": {
      "text/plain": [
       "stop_datetime\n",
       "2005-01-02 01:55:00    01\n",
       "2005-01-02 20:30:00    20\n",
       "2005-01-04 12:55:00    12\n",
       "2005-01-06 01:30:00    01\n",
       "2005-01-12 08:05:00    08\n",
       "                       ..\n",
       "2015-12-31 22:46:00    22\n",
       "2015-12-31 22:47:00    22\n",
       "2015-12-31 23:08:00    23\n",
       "2015-12-31 23:44:00    23\n",
       "2015-12-31 23:48:00    23\n",
       "Name: hour, Length: 480584, dtype: object"
      ]
     },
     "execution_count": 30,
     "metadata": {},
     "output_type": "execute_result"
    }
   ],
   "source": [
    "df[\"hour\"] = df[\"stop_time\"].str.split(\":\", expand=True)[0]\n",
    "df[\"hour\"]"
   ]
  },
  {
   "cell_type": "code",
   "execution_count": 31,
   "id": "9a3a6a84",
   "metadata": {},
   "outputs": [],
   "source": [
    "hourly_arrest_rate = df.groupby(\"hour\")[\"is_arrested\"].mean()"
   ]
  },
  {
   "cell_type": "markdown",
   "id": "0965d6e1",
   "metadata": {},
   "source": [
    "***"
   ]
  },
  {
   "cell_type": "markdown",
   "id": "44cfec9f",
   "metadata": {},
   "source": [
    "## Plotting the hourly arrest rate\n",
    "\n",
    "I'll create a line plot from the ``hourly_arrest_rate`` object. A line plot is appropriate in this case because it will be showing how a quantity changes over time.\n",
    "\n",
    "This plot should help us to spot some trends that may not have been obvious when examining the raw numbers!"
   ]
  },
  {
   "cell_type": "markdown",
   "id": "0a3ba99a",
   "metadata": {},
   "source": [
    "***"
   ]
  },
  {
   "cell_type": "code",
   "execution_count": 32,
   "id": "6535bd50",
   "metadata": {},
   "outputs": [
    {
     "data": {
      "text/plain": [
       "Text(0.5, 1.0, 'Arrest Rate by Time of Day')"
      ]
     },
     "execution_count": 32,
     "metadata": {},
     "output_type": "execute_result"
    },
    {
     "data": {
      "image/png": "[encoded data removed]",
      "text/plain": [
       "<Figure size 2400x800 with 1 Axes>"
      ]
     },
     "metadata": {
      "needs_background": "light"
     },
     "output_type": "display_data"
    }
   ],
   "source": [
    "plt.figure(figsize=(12,4), dpi=200)\n",
    "sns.lineplot(x=hourly_arrest_rate.index, y=hourly_arrest_rate)\n",
    "plt.xlabel(\"Hour\")\n",
    "plt.ylabel(\"Arrest Rate\")\n",
    "plt.title(\"Arrest Rate by Time of Day\")"
   ]
  },
  {
   "cell_type": "markdown",
   "id": "b92cc49f",
   "metadata": {},
   "source": [
    "***"
   ]
  },
  {
   "cell_type": "markdown",
   "id": "61494341",
   "metadata": {},
   "source": [
    "We can clearly see that in midnight it is more likely to get arrested. What about drug-realted stops?"
   ]
  },
  {
   "cell_type": "markdown",
   "id": "e6b107c4",
   "metadata": {},
   "source": [
    "## Plotting drug-related stops\n",
    "\n",
    "In a small portion of traffic stops, drugs are found in the vehicle during a search. I'll assess whether these **drug-related stops** are becoming more common over time.\n",
    "\n",
    "The Boolean column ``drugs_related_stop`` indicates whether drugs were found during a given stop. I'll calculate the **annual drug rate** by **resampling** this column, and then I'll use a line plot to visualize how the rate has changed over time."
   ]
  },
  {
   "cell_type": "markdown",
   "id": "71b9736c",
   "metadata": {},
   "source": [
    "***"
   ]
  },
  {
   "cell_type": "code",
   "execution_count": 33,
   "id": "c749d30f",
   "metadata": {},
   "outputs": [
    {
     "data": {
      "text/plain": [
       "False    99.008\n",
       "True      0.992\n",
       "Name: drugs_related_stop, dtype: float64"
      ]
     },
     "execution_count": 33,
     "metadata": {},
     "output_type": "execute_result"
    }
   ],
   "source": [
    "round(df[\"drugs_related_stop\"].value_counts(normalize=True) * 100, 3)"
   ]
  },
  {
   "cell_type": "code",
   "execution_count": 34,
   "id": "5ca10e17",
   "metadata": {},
   "outputs": [],
   "source": [
    "df[\"year\"] = df[\"stop_date\"].str.split(\"-\", expand=True)[0]\n",
    "annual_drug_rate = df.groupby(\"year\")[\"drugs_related_stop\"].sum()"
   ]
  },
  {
   "cell_type": "code",
   "execution_count": 35,
   "id": "46c8eb5c",
   "metadata": {},
   "outputs": [
    {
     "data": {
      "image/png": "[encoded data removed]",
      "text/plain": [
       "<Figure size 2400x800 with 1 Axes>"
      ]
     },
     "metadata": {
      "needs_background": "light"
     },
     "output_type": "display_data"
    }
   ],
   "source": [
    "plt.figure(figsize=(12,4), dpi=200)\n",
    "sns.lineplot(x=annual_drug_rate.index, y=annual_drug_rate)\n",
    "plt.xlabel(\"Year\")\n",
    "plt.ylabel(\"Drug Rate\")\n",
    "plt.title(\"Annual Drug Rate\");"
   ]
  },
  {
   "cell_type": "markdown",
   "id": "76c67cd0",
   "metadata": {},
   "source": [
    "***"
   ]
  },
  {
   "cell_type": "markdown",
   "id": "99400078",
   "metadata": {},
   "source": [
    "It is clear that annual drug rate increased over time dramatically. Is this because also the rate of vehicle searches also increasing? Let's find out!"
   ]
  },
  {
   "cell_type": "markdown",
   "id": "8c62ee4e",
   "metadata": {},
   "source": [
    "***"
   ]
  },
  {
   "cell_type": "code",
   "execution_count": 36,
   "id": "ec0abdea",
   "metadata": {},
   "outputs": [
    {
     "data": {
      "text/html": [
       "<div>\n",
       "<style scoped>\n",
       "    .dataframe tbody tr th:only-of-type {\n",
       "        vertical-align: middle;\n",
       "    }\n",
       "\n",
       "    .dataframe tbody tr th {\n",
       "        vertical-align: top;\n",
       "    }\n",
       "\n",
       "    .dataframe thead th {\n",
       "        text-align: right;\n",
       "    }\n",
       "</style>\n",
       "<table border=\"1\" class=\"dataframe\">\n",
       "  <thead>\n",
       "    <tr style=\"text-align: right;\">\n",
       "      <th></th>\n",
       "      <th>search_conducted</th>\n",
       "      <th>drugs_related_stop</th>\n",
       "    </tr>\n",
       "    <tr>\n",
       "      <th>year</th>\n",
       "      <th></th>\n",
       "      <th></th>\n",
       "    </tr>\n",
       "  </thead>\n",
       "  <tbody>\n",
       "    <tr>\n",
       "      <th>2005</th>\n",
       "      <td>700</td>\n",
       "      <td>111</td>\n",
       "    </tr>\n",
       "    <tr>\n",
       "      <th>2006</th>\n",
       "      <td>2097</td>\n",
       "      <td>368</td>\n",
       "    </tr>\n",
       "    <tr>\n",
       "      <th>2007</th>\n",
       "      <td>2098</td>\n",
       "      <td>423</td>\n",
       "    </tr>\n",
       "    <tr>\n",
       "      <th>2008</th>\n",
       "      <td>1802</td>\n",
       "      <td>344</td>\n",
       "    </tr>\n",
       "    <tr>\n",
       "      <th>2009</th>\n",
       "      <td>1985</td>\n",
       "      <td>416</td>\n",
       "    </tr>\n",
       "    <tr>\n",
       "      <th>2010</th>\n",
       "      <td>1660</td>\n",
       "      <td>400</td>\n",
       "    </tr>\n",
       "    <tr>\n",
       "      <th>2011</th>\n",
       "      <td>1610</td>\n",
       "      <td>486</td>\n",
       "    </tr>\n",
       "    <tr>\n",
       "      <th>2012</th>\n",
       "      <td>1860</td>\n",
       "      <td>596</td>\n",
       "    </tr>\n",
       "    <tr>\n",
       "      <th>2013</th>\n",
       "      <td>1218</td>\n",
       "      <td>498</td>\n",
       "    </tr>\n",
       "    <tr>\n",
       "      <th>2014</th>\n",
       "      <td>1474</td>\n",
       "      <td>644</td>\n",
       "    </tr>\n",
       "    <tr>\n",
       "      <th>2015</th>\n",
       "      <td>1258</td>\n",
       "      <td>479</td>\n",
       "    </tr>\n",
       "  </tbody>\n",
       "</table>\n",
       "</div>"
      ],
      "text/plain": [
       "      search_conducted  drugs_related_stop\n",
       "year                                      \n",
       "2005               700                 111\n",
       "2006              2097                 368\n",
       "2007              2098                 423\n",
       "2008              1802                 344\n",
       "2009              1985                 416\n",
       "2010              1660                 400\n",
       "2011              1610                 486\n",
       "2012              1860                 596\n",
       "2013              1218                 498\n",
       "2014              1474                 644\n",
       "2015              1258                 479"
      ]
     },
     "execution_count": 36,
     "metadata": {},
     "output_type": "execute_result"
    }
   ],
   "source": [
    "annual_search_rate = df.groupby(\"year\")[\"search_conducted\"].sum()\n",
    "annual = pd.concat([annual_search_rate, annual_drug_rate], axis=1)\n",
    "annual"
   ]
  },
  {
   "cell_type": "code",
   "execution_count": 37,
   "id": "cfde25e5",
   "metadata": {},
   "outputs": [
    {
     "data": {
      "image/png": "[encoded data removed]",
      "text/plain": [
       "<Figure size 2400x1600 with 2 Axes>"
      ]
     },
     "metadata": {
      "needs_background": "light"
     },
     "output_type": "display_data"
    }
   ],
   "source": [
    "fig, axes = plt.subplots(nrows=2, ncols=1, figsize=(12,8), dpi=200)\n",
    "axes[0].plot(annual.index, annual[\"search_conducted\"])\n",
    "axes[0].set_xlabel(\"Year\")\n",
    "axes[0].set_ylabel(\"Searches\")\n",
    "axes[0].set_title(\"Annual Search Conducted\")\n",
    "\n",
    "\n",
    "axes[1].plot(annual.index, annual[\"drugs_related_stop\"])\n",
    "axes[1].set_xlabel(\"Year\")\n",
    "axes[1].set_ylabel(\"Stops\")\n",
    "axes[1].set_title(\"Annual Drug Related Stops\")\n",
    "\n",
    "fig.tight_layout()"
   ]
  },
  {
   "cell_type": "markdown",
   "id": "8ac95a84",
   "metadata": {},
   "source": [
    "***"
   ]
  },
  {
   "cell_type": "markdown",
   "id": "42862a0a",
   "metadata": {},
   "source": [
    "Our hypotesis about the reasons of increase in the annual drug related stops is wrong. Although annual search conducted rate decreased, annual drug related stops increased dramatically. What about police zones? "
   ]
  },
  {
   "cell_type": "markdown",
   "id": "90515098",
   "metadata": {},
   "source": [
    "***"
   ]
  },
  {
   "cell_type": "markdown",
   "id": "70f89da1",
   "metadata": {},
   "source": [
    "## Tallying violations by district\n",
    "\n",
    "The state of **Rhode Island** is broken into six police districts, also known as zones. How do the zones compare in terms of what violations are caught by police?\n",
    "\n",
    "In this part of our analysis, I'll create a frequency table to determine how many violations of each type took place in each of the six zones. Then, I'll filter the table to focus on the ``\"K\"`` zones, which I'll examine further in the next part of analysis."
   ]
  },
  {
   "cell_type": "markdown",
   "id": "055fcc8e",
   "metadata": {},
   "source": [
    "***"
   ]
  },
  {
   "cell_type": "code",
   "execution_count": 38,
   "id": "24c2928f",
   "metadata": {},
   "outputs": [
    {
     "data": {
      "text/html": [
       "<div>\n",
       "<style scoped>\n",
       "    .dataframe tbody tr th:only-of-type {\n",
       "        vertical-align: middle;\n",
       "    }\n",
       "\n",
       "    .dataframe tbody tr th {\n",
       "        vertical-align: top;\n",
       "    }\n",
       "\n",
       "    .dataframe thead th {\n",
       "        text-align: right;\n",
       "    }\n",
       "</style>\n",
       "<table border=\"1\" class=\"dataframe\">\n",
       "  <thead>\n",
       "    <tr style=\"text-align: right;\">\n",
       "      <th>violation</th>\n",
       "      <th>Equipment</th>\n",
       "      <th>Moving violation</th>\n",
       "      <th>Other</th>\n",
       "      <th>Registration/plates</th>\n",
       "      <th>Seat belt</th>\n",
       "      <th>Speeding</th>\n",
       "    </tr>\n",
       "    <tr>\n",
       "      <th>district</th>\n",
       "      <th></th>\n",
       "      <th></th>\n",
       "      <th></th>\n",
       "      <th></th>\n",
       "      <th></th>\n",
       "      <th></th>\n",
       "    </tr>\n",
       "  </thead>\n",
       "  <tbody>\n",
       "    <tr>\n",
       "      <th>Zone K1</th>\n",
       "      <td>3786</td>\n",
       "      <td>7127</td>\n",
       "      <td>1501</td>\n",
       "      <td>628</td>\n",
       "      <td>1</td>\n",
       "      <td>33067</td>\n",
       "    </tr>\n",
       "    <tr>\n",
       "      <th>Zone K2</th>\n",
       "      <td>11285</td>\n",
       "      <td>16440</td>\n",
       "      <td>5103</td>\n",
       "      <td>4056</td>\n",
       "      <td>2897</td>\n",
       "      <td>57500</td>\n",
       "    </tr>\n",
       "    <tr>\n",
       "      <th>Zone K3</th>\n",
       "      <td>12959</td>\n",
       "      <td>16218</td>\n",
       "      <td>3926</td>\n",
       "      <td>3871</td>\n",
       "      <td>3660</td>\n",
       "      <td>68234</td>\n",
       "    </tr>\n",
       "    <tr>\n",
       "      <th>Zone X1</th>\n",
       "      <td>1725</td>\n",
       "      <td>3711</td>\n",
       "      <td>752</td>\n",
       "      <td>192</td>\n",
       "      <td>451</td>\n",
       "      <td>6393</td>\n",
       "    </tr>\n",
       "    <tr>\n",
       "      <th>Zone X3</th>\n",
       "      <td>11520</td>\n",
       "      <td>17178</td>\n",
       "      <td>4069</td>\n",
       "      <td>3532</td>\n",
       "      <td>4445</td>\n",
       "      <td>48687</td>\n",
       "    </tr>\n",
       "    <tr>\n",
       "      <th>Zone X4</th>\n",
       "      <td>19975</td>\n",
       "      <td>29554</td>\n",
       "      <td>8865</td>\n",
       "      <td>7551</td>\n",
       "      <td>4870</td>\n",
       "      <td>54855</td>\n",
       "    </tr>\n",
       "  </tbody>\n",
       "</table>\n",
       "</div>"
      ],
      "text/plain": [
       "violation  Equipment  Moving violation  Other  Registration/plates  Seat belt  \\\n",
       "district                                                                        \n",
       "Zone K1         3786              7127   1501                  628          1   \n",
       "Zone K2        11285             16440   5103                 4056       2897   \n",
       "Zone K3        12959             16218   3926                 3871       3660   \n",
       "Zone X1         1725              3711    752                  192        451   \n",
       "Zone X3        11520             17178   4069                 3532       4445   \n",
       "Zone X4        19975             29554   8865                 7551       4870   \n",
       "\n",
       "violation  Speeding  \n",
       "district             \n",
       "Zone K1       33067  \n",
       "Zone K2       57500  \n",
       "Zone K3       68234  \n",
       "Zone X1        6393  \n",
       "Zone X3       48687  \n",
       "Zone X4       54855  "
      ]
     },
     "execution_count": 38,
     "metadata": {},
     "output_type": "execute_result"
    }
   ],
   "source": [
    "all_zones = pd.crosstab(df[\"district\"],df[\"violation\"])\n",
    "all_zones"
   ]
  },
  {
   "cell_type": "code",
   "execution_count": 39,
   "id": "d4e72d4d",
   "metadata": {},
   "outputs": [
    {
     "data": {
      "text/html": [
       "<div>\n",
       "<style scoped>\n",
       "    .dataframe tbody tr th:only-of-type {\n",
       "        vertical-align: middle;\n",
       "    }\n",
       "\n",
       "    .dataframe tbody tr th {\n",
       "        vertical-align: top;\n",
       "    }\n",
       "\n",
       "    .dataframe thead th {\n",
       "        text-align: right;\n",
       "    }\n",
       "</style>\n",
       "<table border=\"1\" class=\"dataframe\">\n",
       "  <thead>\n",
       "    <tr style=\"text-align: right;\">\n",
       "      <th>violation</th>\n",
       "      <th>Equipment</th>\n",
       "      <th>Moving violation</th>\n",
       "      <th>Other</th>\n",
       "      <th>Registration/plates</th>\n",
       "      <th>Seat belt</th>\n",
       "      <th>Speeding</th>\n",
       "    </tr>\n",
       "    <tr>\n",
       "      <th>district</th>\n",
       "      <th></th>\n",
       "      <th></th>\n",
       "      <th></th>\n",
       "      <th></th>\n",
       "      <th></th>\n",
       "      <th></th>\n",
       "    </tr>\n",
       "  </thead>\n",
       "  <tbody>\n",
       "    <tr>\n",
       "      <th>Zone K1</th>\n",
       "      <td>3786</td>\n",
       "      <td>7127</td>\n",
       "      <td>1501</td>\n",
       "      <td>628</td>\n",
       "      <td>1</td>\n",
       "      <td>33067</td>\n",
       "    </tr>\n",
       "    <tr>\n",
       "      <th>Zone K2</th>\n",
       "      <td>11285</td>\n",
       "      <td>16440</td>\n",
       "      <td>5103</td>\n",
       "      <td>4056</td>\n",
       "      <td>2897</td>\n",
       "      <td>57500</td>\n",
       "    </tr>\n",
       "    <tr>\n",
       "      <th>Zone K3</th>\n",
       "      <td>12959</td>\n",
       "      <td>16218</td>\n",
       "      <td>3926</td>\n",
       "      <td>3871</td>\n",
       "      <td>3660</td>\n",
       "      <td>68234</td>\n",
       "    </tr>\n",
       "  </tbody>\n",
       "</table>\n",
       "</div>"
      ],
      "text/plain": [
       "violation  Equipment  Moving violation  Other  Registration/plates  Seat belt  \\\n",
       "district                                                                        \n",
       "Zone K1         3786              7127   1501                  628          1   \n",
       "Zone K2        11285             16440   5103                 4056       2897   \n",
       "Zone K3        12959             16218   3926                 3871       3660   \n",
       "\n",
       "violation  Speeding  \n",
       "district             \n",
       "Zone K1       33067  \n",
       "Zone K2       57500  \n",
       "Zone K3       68234  "
      ]
     },
     "execution_count": 39,
     "metadata": {},
     "output_type": "execute_result"
    }
   ],
   "source": [
    "k_zones = all_zones.loc[\"Zone K1\": \"Zone K3\"]\n",
    "k_zones"
   ]
  },
  {
   "cell_type": "markdown",
   "id": "9b1e259c",
   "metadata": {},
   "source": [
    "***"
   ]
  },
  {
   "cell_type": "markdown",
   "id": "2dc4b052",
   "metadata": {},
   "source": [
    "In this part of the analysis, I will use a **second dataset** to explore the impact of **weather conditions** on police behavior during traffic stops. I will practice **merging** and **reshaping** datasets, assessing whether a data source is trustworthy, working with **categorical** data, and other advanced skills."
   ]
  },
  {
   "cell_type": "markdown",
   "id": "7ed5fc2a",
   "metadata": {},
   "source": [
    "## Plotting the temperature\n",
    "\n",
    "I'll examine the ``temperature`` columns from the ``weather`` dataset to assess whether the data seems trustworthy. First I'll print the summary statistics, and then you'll visualize the data using a **box plot**.\n",
    "\n",
    "When deciding whether the values seem reasonable, keep in mind that the temperature is measured in degrees **Fahrenheit**, not Celsius!"
   ]
  },
  {
   "cell_type": "markdown",
   "id": "b95ba492",
   "metadata": {},
   "source": [
    "***"
   ]
  },
  {
   "cell_type": "code",
   "execution_count": 40,
   "id": "716a30ce",
   "metadata": {},
   "outputs": [
    {
     "data": {
      "text/html": [
       "<div>\n",
       "<style scoped>\n",
       "    .dataframe tbody tr th:only-of-type {\n",
       "        vertical-align: middle;\n",
       "    }\n",
       "\n",
       "    .dataframe tbody tr th {\n",
       "        vertical-align: top;\n",
       "    }\n",
       "\n",
       "    .dataframe thead th {\n",
       "        text-align: right;\n",
       "    }\n",
       "</style>\n",
       "<table border=\"1\" class=\"dataframe\">\n",
       "  <thead>\n",
       "    <tr style=\"text-align: right;\">\n",
       "      <th></th>\n",
       "      <th>TMIN</th>\n",
       "      <th>TAVG</th>\n",
       "      <th>TMAX</th>\n",
       "    </tr>\n",
       "  </thead>\n",
       "  <tbody>\n",
       "    <tr>\n",
       "      <th>count</th>\n",
       "      <td>7996.000000</td>\n",
       "      <td>1217.000000</td>\n",
       "      <td>8005.000000</td>\n",
       "    </tr>\n",
       "    <tr>\n",
       "      <th>mean</th>\n",
       "      <td>42.099425</td>\n",
       "      <td>52.493016</td>\n",
       "      <td>61.247096</td>\n",
       "    </tr>\n",
       "    <tr>\n",
       "      <th>std</th>\n",
       "      <td>17.386667</td>\n",
       "      <td>17.829792</td>\n",
       "      <td>18.495043</td>\n",
       "    </tr>\n",
       "    <tr>\n",
       "      <th>min</th>\n",
       "      <td>-10.000000</td>\n",
       "      <td>6.000000</td>\n",
       "      <td>13.000000</td>\n",
       "    </tr>\n",
       "    <tr>\n",
       "      <th>25%</th>\n",
       "      <td>29.000000</td>\n",
       "      <td>39.000000</td>\n",
       "      <td>46.000000</td>\n",
       "    </tr>\n",
       "    <tr>\n",
       "      <th>50%</th>\n",
       "      <td>42.000000</td>\n",
       "      <td>54.000000</td>\n",
       "      <td>62.000000</td>\n",
       "    </tr>\n",
       "    <tr>\n",
       "      <th>75%</th>\n",
       "      <td>57.000000</td>\n",
       "      <td>68.000000</td>\n",
       "      <td>77.000000</td>\n",
       "    </tr>\n",
       "    <tr>\n",
       "      <th>max</th>\n",
       "      <td>77.000000</td>\n",
       "      <td>86.000000</td>\n",
       "      <td>102.000000</td>\n",
       "    </tr>\n",
       "  </tbody>\n",
       "</table>\n",
       "</div>"
      ],
      "text/plain": [
       "              TMIN         TAVG         TMAX\n",
       "count  7996.000000  1217.000000  8005.000000\n",
       "mean     42.099425    52.493016    61.247096\n",
       "std      17.386667    17.829792    18.495043\n",
       "min     -10.000000     6.000000    13.000000\n",
       "25%      29.000000    39.000000    46.000000\n",
       "50%      42.000000    54.000000    62.000000\n",
       "75%      57.000000    68.000000    77.000000\n",
       "max      77.000000    86.000000   102.000000"
      ]
     },
     "execution_count": 40,
     "metadata": {},
     "output_type": "execute_result"
    }
   ],
   "source": [
    "weather = pd.read_csv(\"weather.csv\")\n",
    "weather.loc[:,[\"TMIN\", \"TAVG\", \"TMAX\"]].describe()"
   ]
  },
  {
   "cell_type": "code",
   "execution_count": 41,
   "id": "afc4d2b9",
   "metadata": {},
   "outputs": [
    {
     "data": {
      "text/html": [
       "<div>\n",
       "<style scoped>\n",
       "    .dataframe tbody tr th:only-of-type {\n",
       "        vertical-align: middle;\n",
       "    }\n",
       "\n",
       "    .dataframe tbody tr th {\n",
       "        vertical-align: top;\n",
       "    }\n",
       "\n",
       "    .dataframe thead th {\n",
       "        text-align: right;\n",
       "    }\n",
       "</style>\n",
       "<table border=\"1\" class=\"dataframe\">\n",
       "  <thead>\n",
       "    <tr style=\"text-align: right;\">\n",
       "      <th></th>\n",
       "      <th>STATION</th>\n",
       "      <th>DATE</th>\n",
       "      <th>AWND</th>\n",
       "      <th>TAVG</th>\n",
       "      <th>TMAX</th>\n",
       "      <th>TMIN</th>\n",
       "      <th>WT01</th>\n",
       "      <th>WT02</th>\n",
       "      <th>WT03</th>\n",
       "      <th>WT04</th>\n",
       "      <th>WT05</th>\n",
       "      <th>WT06</th>\n",
       "      <th>WT07</th>\n",
       "      <th>WT08</th>\n",
       "      <th>WT09</th>\n",
       "      <th>WT10</th>\n",
       "      <th>WT11</th>\n",
       "      <th>WT13</th>\n",
       "      <th>WT14</th>\n",
       "      <th>WT15</th>\n",
       "      <th>WT16</th>\n",
       "      <th>WT17</th>\n",
       "      <th>WT18</th>\n",
       "      <th>WT19</th>\n",
       "      <th>WT21</th>\n",
       "      <th>WT22</th>\n",
       "    </tr>\n",
       "  </thead>\n",
       "  <tbody>\n",
       "    <tr>\n",
       "      <th>0</th>\n",
       "      <td>USC00379423</td>\n",
       "      <td>2005-01-01</td>\n",
       "      <td>NaN</td>\n",
       "      <td>NaN</td>\n",
       "      <td>47.0</td>\n",
       "      <td>28.0</td>\n",
       "      <td>NaN</td>\n",
       "      <td>NaN</td>\n",
       "      <td>NaN</td>\n",
       "      <td>NaN</td>\n",
       "      <td>NaN</td>\n",
       "      <td>NaN</td>\n",
       "      <td>NaN</td>\n",
       "      <td>NaN</td>\n",
       "      <td>NaN</td>\n",
       "      <td>NaN</td>\n",
       "      <td>NaN</td>\n",
       "      <td>NaN</td>\n",
       "      <td>NaN</td>\n",
       "      <td>NaN</td>\n",
       "      <td>NaN</td>\n",
       "      <td>NaN</td>\n",
       "      <td>NaN</td>\n",
       "      <td>NaN</td>\n",
       "      <td>NaN</td>\n",
       "      <td>NaN</td>\n",
       "    </tr>\n",
       "    <tr>\n",
       "      <th>1</th>\n",
       "      <td>USC00379423</td>\n",
       "      <td>2005-01-02</td>\n",
       "      <td>NaN</td>\n",
       "      <td>NaN</td>\n",
       "      <td>52.0</td>\n",
       "      <td>24.0</td>\n",
       "      <td>NaN</td>\n",
       "      <td>NaN</td>\n",
       "      <td>NaN</td>\n",
       "      <td>NaN</td>\n",
       "      <td>NaN</td>\n",
       "      <td>NaN</td>\n",
       "      <td>NaN</td>\n",
       "      <td>NaN</td>\n",
       "      <td>NaN</td>\n",
       "      <td>NaN</td>\n",
       "      <td>NaN</td>\n",
       "      <td>NaN</td>\n",
       "      <td>NaN</td>\n",
       "      <td>NaN</td>\n",
       "      <td>NaN</td>\n",
       "      <td>NaN</td>\n",
       "      <td>NaN</td>\n",
       "      <td>NaN</td>\n",
       "      <td>NaN</td>\n",
       "      <td>NaN</td>\n",
       "    </tr>\n",
       "    <tr>\n",
       "      <th>2</th>\n",
       "      <td>USC00379423</td>\n",
       "      <td>2005-01-03</td>\n",
       "      <td>NaN</td>\n",
       "      <td>NaN</td>\n",
       "      <td>48.0</td>\n",
       "      <td>27.0</td>\n",
       "      <td>NaN</td>\n",
       "      <td>NaN</td>\n",
       "      <td>NaN</td>\n",
       "      <td>NaN</td>\n",
       "      <td>NaN</td>\n",
       "      <td>NaN</td>\n",
       "      <td>NaN</td>\n",
       "      <td>NaN</td>\n",
       "      <td>NaN</td>\n",
       "      <td>NaN</td>\n",
       "      <td>NaN</td>\n",
       "      <td>NaN</td>\n",
       "      <td>NaN</td>\n",
       "      <td>NaN</td>\n",
       "      <td>NaN</td>\n",
       "      <td>NaN</td>\n",
       "      <td>NaN</td>\n",
       "      <td>NaN</td>\n",
       "      <td>NaN</td>\n",
       "      <td>NaN</td>\n",
       "    </tr>\n",
       "    <tr>\n",
       "      <th>3</th>\n",
       "      <td>USC00379423</td>\n",
       "      <td>2005-01-04</td>\n",
       "      <td>NaN</td>\n",
       "      <td>NaN</td>\n",
       "      <td>54.0</td>\n",
       "      <td>40.0</td>\n",
       "      <td>NaN</td>\n",
       "      <td>NaN</td>\n",
       "      <td>NaN</td>\n",
       "      <td>NaN</td>\n",
       "      <td>NaN</td>\n",
       "      <td>NaN</td>\n",
       "      <td>NaN</td>\n",
       "      <td>NaN</td>\n",
       "      <td>NaN</td>\n",
       "      <td>NaN</td>\n",
       "      <td>NaN</td>\n",
       "      <td>NaN</td>\n",
       "      <td>NaN</td>\n",
       "      <td>NaN</td>\n",
       "      <td>NaN</td>\n",
       "      <td>NaN</td>\n",
       "      <td>NaN</td>\n",
       "      <td>NaN</td>\n",
       "      <td>NaN</td>\n",
       "      <td>NaN</td>\n",
       "    </tr>\n",
       "    <tr>\n",
       "      <th>4</th>\n",
       "      <td>USC00379423</td>\n",
       "      <td>2005-01-05</td>\n",
       "      <td>NaN</td>\n",
       "      <td>NaN</td>\n",
       "      <td>44.0</td>\n",
       "      <td>31.0</td>\n",
       "      <td>NaN</td>\n",
       "      <td>NaN</td>\n",
       "      <td>NaN</td>\n",
       "      <td>NaN</td>\n",
       "      <td>NaN</td>\n",
       "      <td>NaN</td>\n",
       "      <td>NaN</td>\n",
       "      <td>NaN</td>\n",
       "      <td>NaN</td>\n",
       "      <td>NaN</td>\n",
       "      <td>NaN</td>\n",
       "      <td>NaN</td>\n",
       "      <td>NaN</td>\n",
       "      <td>NaN</td>\n",
       "      <td>NaN</td>\n",
       "      <td>NaN</td>\n",
       "      <td>NaN</td>\n",
       "      <td>NaN</td>\n",
       "      <td>NaN</td>\n",
       "      <td>NaN</td>\n",
       "    </tr>\n",
       "  </tbody>\n",
       "</table>\n",
       "</div>"
      ],
      "text/plain": [
       "       STATION        DATE  AWND  TAVG  TMAX  TMIN  WT01  WT02  WT03  WT04  \\\n",
       "0  USC00379423  2005-01-01   NaN   NaN  47.0  28.0   NaN   NaN   NaN   NaN   \n",
       "1  USC00379423  2005-01-02   NaN   NaN  52.0  24.0   NaN   NaN   NaN   NaN   \n",
       "2  USC00379423  2005-01-03   NaN   NaN  48.0  27.0   NaN   NaN   NaN   NaN   \n",
       "3  USC00379423  2005-01-04   NaN   NaN  54.0  40.0   NaN   NaN   NaN   NaN   \n",
       "4  USC00379423  2005-01-05   NaN   NaN  44.0  31.0   NaN   NaN   NaN   NaN   \n",
       "\n",
       "   WT05  WT06  WT07  WT08  WT09  WT10  WT11  WT13  WT14  WT15  WT16  WT17  \\\n",
       "0   NaN   NaN   NaN   NaN   NaN   NaN   NaN   NaN   NaN   NaN   NaN   NaN   \n",
       "1   NaN   NaN   NaN   NaN   NaN   NaN   NaN   NaN   NaN   NaN   NaN   NaN   \n",
       "2   NaN   NaN   NaN   NaN   NaN   NaN   NaN   NaN   NaN   NaN   NaN   NaN   \n",
       "3   NaN   NaN   NaN   NaN   NaN   NaN   NaN   NaN   NaN   NaN   NaN   NaN   \n",
       "4   NaN   NaN   NaN   NaN   NaN   NaN   NaN   NaN   NaN   NaN   NaN   NaN   \n",
       "\n",
       "   WT18  WT19  WT21  WT22  \n",
       "0   NaN   NaN   NaN   NaN  \n",
       "1   NaN   NaN   NaN   NaN  \n",
       "2   NaN   NaN   NaN   NaN  \n",
       "3   NaN   NaN   NaN   NaN  \n",
       "4   NaN   NaN   NaN   NaN  "
      ]
     },
     "execution_count": 41,
     "metadata": {},
     "output_type": "execute_result"
    }
   ],
   "source": [
    "weather.head()"
   ]
  },
  {
   "cell_type": "code",
   "execution_count": 42,
   "id": "609a2e3b",
   "metadata": {},
   "outputs": [
    {
     "data": {
      "text/plain": [
       "<AxesSubplot:>"
      ]
     },
     "execution_count": 42,
     "metadata": {},
     "output_type": "execute_result"
    },
    {
     "data": {
      "image/png": "[encoded data removed]",
      "text/plain": [
       "<Figure size 432x288 with 1 Axes>"
      ]
     },
     "metadata": {
      "needs_background": "light"
     },
     "output_type": "display_data"
    }
   ],
   "source": [
    "weather[[\"TMIN\", \"TAVG\", \"TMAX\"]].plot(kind = \"box\")"
   ]
  },
  {
   "cell_type": "markdown",
   "id": "36b722be",
   "metadata": {},
   "source": [
    "***"
   ]
  },
  {
   "cell_type": "markdown",
   "id": "51b7a9fd",
   "metadata": {},
   "source": [
    "## Plotting the temperatur difference\n",
    "\n",
    "Now I'll continue to assess ``whether`` the dataset seems trustworthy by plotting the difference between the maximum and minimum temperatures."
   ]
  },
  {
   "cell_type": "markdown",
   "id": "5c4668a4",
   "metadata": {},
   "source": [
    "***"
   ]
  },
  {
   "cell_type": "code",
   "execution_count": 43,
   "id": "b07704c4",
   "metadata": {},
   "outputs": [
    {
     "data": {
      "text/plain": [
       "count    7994.000\n",
       "mean      -19.149\n",
       "std         7.010\n",
       "min       -48.000\n",
       "25%       -24.000\n",
       "50%       -19.000\n",
       "75%       -14.000\n",
       "max        25.000\n",
       "Name: TDIFF, dtype: float64"
      ]
     },
     "execution_count": 43,
     "metadata": {},
     "output_type": "execute_result"
    }
   ],
   "source": [
    "weather[\"TDIFF\"] =weather[\"TMIN\"] - weather[\"TMAX\"]\n",
    "round(weather[\"TDIFF\"].describe(), 3)"
   ]
  },
  {
   "cell_type": "code",
   "execution_count": 44,
   "id": "729eee24",
   "metadata": {},
   "outputs": [
    {
     "data": {
      "text/plain": [
       "<AxesSubplot:xlabel='TDIFF', ylabel='Count'>"
      ]
     },
     "execution_count": 44,
     "metadata": {},
     "output_type": "execute_result"
    },
    {
     "data": {
      "image/png": "[encoded data removed]",
      "text/plain": [
       "<Figure size 432x288 with 1 Axes>"
      ]
     },
     "metadata": {
      "needs_background": "light"
     },
     "output_type": "display_data"
    }
   ],
   "source": [
    "sns.histplot(x=\"TDIFF\", data=weather, bins=20, kde=True)"
   ]
  },
  {
   "cell_type": "markdown",
   "id": "58b0599f",
   "metadata": {},
   "source": [
    "***"
   ]
  },
  {
   "cell_type": "markdown",
   "id": "5d731a96",
   "metadata": {},
   "source": [
    "The histogram about the difference between the maximum and minimum temperatures shows normal distribution."
   ]
  },
  {
   "cell_type": "markdown",
   "id": "dea5d9f0",
   "metadata": {},
   "source": [
    "## Counting bad weather conditions\n",
    "\n",
    "The ``weather`` ``DataFrame`` contains ``20`` columns that start with ``'WT'``, each of which represents a bad weather condition. For example:\n",
    "\n",
    "*   ``WT05`` indicates ``\"Hail\"``\n",
    "*   ``WT11`` indicates ``\"High or damaging winds\"``\n",
    "*   ``WT17`` indicates ``\"Freezing rain\"``\n",
    "\n",
    "For every row in the dataset, each ``WT`` column contains either a ``1`` (meaning the condition was present that day) or ``NaN`` (meaning the condition was not present).\n",
    "\n",
    "I'll quantify ``\"how bad\"`` the weather was each day by counting the number of ``1`` values in each row."
   ]
  },
  {
   "cell_type": "markdown",
   "id": "d5f5ac63",
   "metadata": {},
   "source": [
    "***"
   ]
  },
  {
   "cell_type": "code",
   "execution_count": 45,
   "id": "e4293239",
   "metadata": {},
   "outputs": [
    {
     "data": {
      "image/png": "[encoded data removed]",
      "text/plain": [
       "<Figure size 432x288 with 1 Axes>"
      ]
     },
     "metadata": {
      "needs_background": "light"
     },
     "output_type": "display_data"
    }
   ],
   "source": [
    "WT = weather.loc[:,\"WT01\":\"WT22\"]\n",
    "WT[\"bad_conditions\"] = WT.apply(np.sum, axis=1)\n",
    "WT[\"bad_conditions\"] = WT[\"bad_conditions\"].fillna(0)\n",
    "sns.histplot(x=\"bad_conditions\", data=WT, bins=8);"
   ]
  },
  {
   "cell_type": "markdown",
   "id": "ca832be9",
   "metadata": {},
   "source": [
    "***"
   ]
  },
  {
   "cell_type": "markdown",
   "id": "61424d11",
   "metadata": {},
   "source": [
    "## Rating the weather conditions\n",
    "\n",
    "I counted the number of bad weather conditions each day. Now, I'll use the counts to create a *rating system** for the weather.\n",
    "\n",
    "The counts range from ``0`` to ``9``, and should be converted to ratings as follows:\n",
    "\n",
    "*   Convert ``0`` to ``'good'``\n",
    "*   Convert ``1`` through ``4`` to ``'bad'``\n",
    "*   Convert ``5`` through ``9`` to ``'worse'``"
   ]
  },
  {
   "cell_type": "markdown",
   "id": "40e4c18a",
   "metadata": {},
   "source": [
    "***"
   ]
  },
  {
   "cell_type": "code",
   "execution_count": 46,
   "id": "06c518e5",
   "metadata": {},
   "outputs": [
    {
     "data": {
      "text/plain": [
       "0.0    5738\n",
       "1.0     628\n",
       "2.0     368\n",
       "3.0     380\n",
       "4.0     476\n",
       "5.0     282\n",
       "6.0     101\n",
       "7.0      41\n",
       "8.0       4\n",
       "9.0       4\n",
       "Name: bad_conditions, dtype: int64"
      ]
     },
     "execution_count": 46,
     "metadata": {},
     "output_type": "execute_result"
    }
   ],
   "source": [
    "WT[\"bad_conditions\"].value_counts(dropna = False).sort_index()"
   ]
  },
  {
   "cell_type": "code",
   "execution_count": 47,
   "id": "d99fafe8",
   "metadata": {},
   "outputs": [
    {
     "data": {
      "text/plain": [
       "good     5738\n",
       "bad      1852\n",
       "worse     432\n",
       "Name: rating, dtype: int64"
      ]
     },
     "execution_count": 47,
     "metadata": {},
     "output_type": "execute_result"
    }
   ],
   "source": [
    "mapping = {\n",
    "    0: \"good\",\n",
    "    1: \"bad\",\n",
    "    2: \"bad\",\n",
    "    3: \"bad\",\n",
    "    4: \"bad\",\n",
    "    5: \"worse\",\n",
    "    6: \"worse\",\n",
    "    7: \"worse\",\n",
    "    8: \"worse\",\n",
    "    9: \"worse\"\n",
    "}\n",
    "\n",
    "WT[\"rating\"] = WT[\"bad_conditions\"].replace(mapping)\n",
    "WT[\"rating\"].value_counts()"
   ]
  },
  {
   "cell_type": "markdown",
   "id": "77fecce7",
   "metadata": {},
   "source": [
    "***"
   ]
  },
  {
   "cell_type": "markdown",
   "id": "8b252a31",
   "metadata": {},
   "source": [
    "All done. Let's keep going."
   ]
  },
  {
   "cell_type": "markdown",
   "id": "5619e1d3",
   "metadata": {},
   "source": [
    "## Changing the data type to category\n",
    "\n",
    "Since the ``rating`` column only has a few possible values, I'll change its data type to ``category`` in order to store the data more efficiently. I'll also specify a logical order for the categories, which will be useful for future exercises."
   ]
  },
  {
   "cell_type": "markdown",
   "id": "6e0fcf84",
   "metadata": {},
   "source": [
    "***"
   ]
  },
  {
   "cell_type": "code",
   "execution_count": 48,
   "id": "f286e8fb",
   "metadata": {},
   "outputs": [
    {
     "data": {
      "text/plain": [
       "0       good\n",
       "1       good\n",
       "2       good\n",
       "3       good\n",
       "4       good\n",
       "        ... \n",
       "8017     bad\n",
       "8018    good\n",
       "8019     bad\n",
       "8020     bad\n",
       "8021     bad\n",
       "Name: rating, Length: 8022, dtype: category\n",
       "Categories (3, object): ['good' < 'bad' < 'worse']"
      ]
     },
     "execution_count": 48,
     "metadata": {},
     "output_type": "execute_result"
    }
   ],
   "source": [
    "cats = [\"good\", \"bad\", \"worse\"]\n",
    "WT[\"rating\"] = pd.Categorical(WT[\"rating\"], ordered = True, categories = cats)\n",
    "WT[\"rating\"]"
   ]
  },
  {
   "cell_type": "code",
   "execution_count": 49,
   "id": "4f1419d7",
   "metadata": {},
   "outputs": [],
   "source": [
    "weather[\"rating\"] = WT[\"rating\"]\n",
    "weather[\"bad_conditions\"] = WT[\"bad_conditions\"]\n",
    "weather_rating = weather[[\"DATE\", \"rating\"]]"
   ]
  },
  {
   "cell_type": "markdown",
   "id": "8abf00c0",
   "metadata": {},
   "source": [
    "***"
   ]
  },
  {
   "cell_type": "markdown",
   "id": "14ff266e",
   "metadata": {},
   "source": [
    "## Preparing the DataFrames\n",
    "\n",
    "It is time to prepare the **traffic stop** and **weather rating** ``DataFrames`` so that they're ready to be merged:\n",
    "\n",
    "With the ``df`` ``DataFrame``, I'll move the ``stop_datetime`` index to a ``column`` since the index will be lost during the merge.\n",
    "\n",
    "With the ``weather`` ``DataFrame``, I'll select the ``DATE`` and ``rating`` columns and put them in a new ``DataFrame``."
   ]
  },
  {
   "cell_type": "markdown",
   "id": "504a524e",
   "metadata": {},
   "source": [
    "***"
   ]
  },
  {
   "cell_type": "code",
   "execution_count": 50,
   "id": "6e3dbaf7",
   "metadata": {},
   "outputs": [],
   "source": [
    "df = df.reset_index()"
   ]
  },
  {
   "cell_type": "code",
   "execution_count": 51,
   "id": "01ec510c",
   "metadata": {},
   "outputs": [],
   "source": [
    "combined = df.stop_date.str.cat(df.stop_time, sep=' ')\n",
    "df['stop_datetime'] = pd.to_datetime(combined)"
   ]
  },
  {
   "cell_type": "code",
   "execution_count": 52,
   "id": "983ddda6",
   "metadata": {},
   "outputs": [
    {
     "data": {
      "text/plain": [
       "0        2005-01-02 01:55:00\n",
       "1        2005-01-02 20:30:00\n",
       "2        2005-01-04 12:55:00\n",
       "3        2005-01-06 01:30:00\n",
       "4        2005-01-12 08:05:00\n",
       "                 ...        \n",
       "480579   2015-12-31 22:46:00\n",
       "480580   2015-12-31 22:47:00\n",
       "480581   2015-12-31 23:08:00\n",
       "480582   2015-12-31 23:44:00\n",
       "480583   2015-12-31 23:48:00\n",
       "Name: stop_datetime, Length: 480584, dtype: datetime64[ns]"
      ]
     },
     "execution_count": 52,
     "metadata": {},
     "output_type": "execute_result"
    }
   ],
   "source": [
    "df['stop_datetime']"
   ]
  },
  {
   "cell_type": "code",
   "execution_count": 53,
   "id": "e39e8bd8",
   "metadata": {},
   "outputs": [
    {
     "data": {
      "text/plain": [
       "0       2005-01-01\n",
       "1       2005-01-02\n",
       "2       2005-01-03\n",
       "3       2005-01-04\n",
       "4       2005-01-05\n",
       "           ...    \n",
       "8017    2015-12-27\n",
       "8018    2015-12-28\n",
       "8019    2015-12-29\n",
       "8020    2015-12-30\n",
       "8021    2015-12-31\n",
       "Name: DATE, Length: 8022, dtype: object"
      ]
     },
     "execution_count": 53,
     "metadata": {},
     "output_type": "execute_result"
    }
   ],
   "source": [
    "weather_rating.DATE"
   ]
  },
  {
   "cell_type": "markdown",
   "id": "6f8269ac",
   "metadata": {},
   "source": [
    "***"
   ]
  },
  {
   "cell_type": "markdown",
   "id": "181ba7ba",
   "metadata": {},
   "source": [
    "## Merging the DataFrames\n",
    "\n",
    "Now I'll ``merge`` the ``df`` and ``weather_rating`` ``DataFrames`` into a new ``DataFrame``, ``ri_weather``.\n",
    "\n",
    "The ``DataFrames`` will be joined using the ``stop_date`` column from ``df`` and the ``DATE`` column from ``weather_rating``. Thankfully the date formatting matches exactly, which is not always the case!\n",
    "\n",
    "Once the merge is complete, I'll set ``stop_datetime`` as the index, which is the column I saved in the previous exercise."
   ]
  },
  {
   "cell_type": "markdown",
   "id": "edbe37a9",
   "metadata": {},
   "source": [
    "***"
   ]
  },
  {
   "cell_type": "code",
   "execution_count": 54,
   "id": "aff28e02",
   "metadata": {},
   "outputs": [
    {
     "data": {
      "text/html": [
       "<div>\n",
       "<style scoped>\n",
       "    .dataframe tbody tr th:only-of-type {\n",
       "        vertical-align: middle;\n",
       "    }\n",
       "\n",
       "    .dataframe tbody tr th {\n",
       "        vertical-align: top;\n",
       "    }\n",
       "\n",
       "    .dataframe thead th {\n",
       "        text-align: right;\n",
       "    }\n",
       "</style>\n",
       "<table border=\"1\" class=\"dataframe\">\n",
       "  <thead>\n",
       "    <tr style=\"text-align: right;\">\n",
       "      <th></th>\n",
       "      <th>stop_datetime</th>\n",
       "      <th>id</th>\n",
       "      <th>stop_date</th>\n",
       "      <th>stop_time</th>\n",
       "      <th>location_raw</th>\n",
       "      <th>police_department</th>\n",
       "      <th>driver_gender</th>\n",
       "      <th>driver_age_raw</th>\n",
       "      <th>driver_age</th>\n",
       "      <th>driver_race_raw</th>\n",
       "      <th>driver_race</th>\n",
       "      <th>violation_raw</th>\n",
       "      <th>violation</th>\n",
       "      <th>search_conducted</th>\n",
       "      <th>search_type_raw</th>\n",
       "      <th>search_type</th>\n",
       "      <th>contraband_found</th>\n",
       "      <th>stop_outcome</th>\n",
       "      <th>is_arrested</th>\n",
       "      <th>stop_duration</th>\n",
       "      <th>out_of_state</th>\n",
       "      <th>drugs_related_stop</th>\n",
       "      <th>district</th>\n",
       "      <th>frisk</th>\n",
       "      <th>hour</th>\n",
       "      <th>year</th>\n",
       "      <th>DATE</th>\n",
       "      <th>rating</th>\n",
       "    </tr>\n",
       "  </thead>\n",
       "  <tbody>\n",
       "    <tr>\n",
       "      <th>0</th>\n",
       "      <td>2005-01-02 01:55:00</td>\n",
       "      <td>RI-2005-00001</td>\n",
       "      <td>2005-01-02</td>\n",
       "      <td>01:55</td>\n",
       "      <td>Zone K1</td>\n",
       "      <td>600</td>\n",
       "      <td>M</td>\n",
       "      <td>1985.0</td>\n",
       "      <td>20.0</td>\n",
       "      <td>W</td>\n",
       "      <td>White</td>\n",
       "      <td>Speeding</td>\n",
       "      <td>Speeding</td>\n",
       "      <td>False</td>\n",
       "      <td>NaN</td>\n",
       "      <td>NaN</td>\n",
       "      <td>False</td>\n",
       "      <td>Citation</td>\n",
       "      <td>False</td>\n",
       "      <td>0-15 Min</td>\n",
       "      <td>False</td>\n",
       "      <td>False</td>\n",
       "      <td>Zone K1</td>\n",
       "      <td>False</td>\n",
       "      <td>01</td>\n",
       "      <td>2005</td>\n",
       "      <td>2005-01-02</td>\n",
       "      <td>good</td>\n",
       "    </tr>\n",
       "    <tr>\n",
       "      <th>1</th>\n",
       "      <td>2005-01-02 01:55:00</td>\n",
       "      <td>RI-2005-00001</td>\n",
       "      <td>2005-01-02</td>\n",
       "      <td>01:55</td>\n",
       "      <td>Zone K1</td>\n",
       "      <td>600</td>\n",
       "      <td>M</td>\n",
       "      <td>1985.0</td>\n",
       "      <td>20.0</td>\n",
       "      <td>W</td>\n",
       "      <td>White</td>\n",
       "      <td>Speeding</td>\n",
       "      <td>Speeding</td>\n",
       "      <td>False</td>\n",
       "      <td>NaN</td>\n",
       "      <td>NaN</td>\n",
       "      <td>False</td>\n",
       "      <td>Citation</td>\n",
       "      <td>False</td>\n",
       "      <td>0-15 Min</td>\n",
       "      <td>False</td>\n",
       "      <td>False</td>\n",
       "      <td>Zone K1</td>\n",
       "      <td>False</td>\n",
       "      <td>01</td>\n",
       "      <td>2005</td>\n",
       "      <td>2005-01-02</td>\n",
       "      <td>bad</td>\n",
       "    </tr>\n",
       "    <tr>\n",
       "      <th>2</th>\n",
       "      <td>2005-01-02 20:30:00</td>\n",
       "      <td>RI-2005-00002</td>\n",
       "      <td>2005-01-02</td>\n",
       "      <td>20:30</td>\n",
       "      <td>Zone X4</td>\n",
       "      <td>500</td>\n",
       "      <td>M</td>\n",
       "      <td>1987.0</td>\n",
       "      <td>18.0</td>\n",
       "      <td>W</td>\n",
       "      <td>White</td>\n",
       "      <td>Speeding</td>\n",
       "      <td>Speeding</td>\n",
       "      <td>False</td>\n",
       "      <td>NaN</td>\n",
       "      <td>NaN</td>\n",
       "      <td>False</td>\n",
       "      <td>Citation</td>\n",
       "      <td>False</td>\n",
       "      <td>16-30 Min</td>\n",
       "      <td>False</td>\n",
       "      <td>False</td>\n",
       "      <td>Zone X4</td>\n",
       "      <td>False</td>\n",
       "      <td>20</td>\n",
       "      <td>2005</td>\n",
       "      <td>2005-01-02</td>\n",
       "      <td>good</td>\n",
       "    </tr>\n",
       "    <tr>\n",
       "      <th>3</th>\n",
       "      <td>2005-01-02 20:30:00</td>\n",
       "      <td>RI-2005-00002</td>\n",
       "      <td>2005-01-02</td>\n",
       "      <td>20:30</td>\n",
       "      <td>Zone X4</td>\n",
       "      <td>500</td>\n",
       "      <td>M</td>\n",
       "      <td>1987.0</td>\n",
       "      <td>18.0</td>\n",
       "      <td>W</td>\n",
       "      <td>White</td>\n",
       "      <td>Speeding</td>\n",
       "      <td>Speeding</td>\n",
       "      <td>False</td>\n",
       "      <td>NaN</td>\n",
       "      <td>NaN</td>\n",
       "      <td>False</td>\n",
       "      <td>Citation</td>\n",
       "      <td>False</td>\n",
       "      <td>16-30 Min</td>\n",
       "      <td>False</td>\n",
       "      <td>False</td>\n",
       "      <td>Zone X4</td>\n",
       "      <td>False</td>\n",
       "      <td>20</td>\n",
       "      <td>2005</td>\n",
       "      <td>2005-01-02</td>\n",
       "      <td>bad</td>\n",
       "    </tr>\n",
       "    <tr>\n",
       "      <th>4</th>\n",
       "      <td>2005-01-04 12:55:00</td>\n",
       "      <td>RI-2005-00004</td>\n",
       "      <td>2005-01-04</td>\n",
       "      <td>12:55</td>\n",
       "      <td>Zone X4</td>\n",
       "      <td>500</td>\n",
       "      <td>M</td>\n",
       "      <td>1986.0</td>\n",
       "      <td>19.0</td>\n",
       "      <td>W</td>\n",
       "      <td>White</td>\n",
       "      <td>Equipment/Inspection Violation</td>\n",
       "      <td>Equipment</td>\n",
       "      <td>False</td>\n",
       "      <td>NaN</td>\n",
       "      <td>NaN</td>\n",
       "      <td>False</td>\n",
       "      <td>Citation</td>\n",
       "      <td>False</td>\n",
       "      <td>0-15 Min</td>\n",
       "      <td>False</td>\n",
       "      <td>False</td>\n",
       "      <td>Zone X4</td>\n",
       "      <td>False</td>\n",
       "      <td>12</td>\n",
       "      <td>2005</td>\n",
       "      <td>2005-01-04</td>\n",
       "      <td>good</td>\n",
       "    </tr>\n",
       "  </tbody>\n",
       "</table>\n",
       "</div>"
      ],
      "text/plain": [
       "        stop_datetime             id   stop_date stop_time location_raw  \\\n",
       "0 2005-01-02 01:55:00  RI-2005-00001  2005-01-02     01:55      Zone K1   \n",
       "1 2005-01-02 01:55:00  RI-2005-00001  2005-01-02     01:55      Zone K1   \n",
       "2 2005-01-02 20:30:00  RI-2005-00002  2005-01-02     20:30      Zone X4   \n",
       "3 2005-01-02 20:30:00  RI-2005-00002  2005-01-02     20:30      Zone X4   \n",
       "4 2005-01-04 12:55:00  RI-2005-00004  2005-01-04     12:55      Zone X4   \n",
       "\n",
       "  police_department driver_gender  driver_age_raw  driver_age driver_race_raw  \\\n",
       "0               600             M          1985.0        20.0               W   \n",
       "1               600             M          1985.0        20.0               W   \n",
       "2               500             M          1987.0        18.0               W   \n",
       "3               500             M          1987.0        18.0               W   \n",
       "4               500             M          1986.0        19.0               W   \n",
       "\n",
       "  driver_race                   violation_raw  violation  search_conducted  \\\n",
       "0       White                        Speeding   Speeding             False   \n",
       "1       White                        Speeding   Speeding             False   \n",
       "2       White                        Speeding   Speeding             False   \n",
       "3       White                        Speeding   Speeding             False   \n",
       "4       White  Equipment/Inspection Violation  Equipment             False   \n",
       "\n",
       "  search_type_raw search_type  contraband_found stop_outcome  is_arrested  \\\n",
       "0             NaN         NaN             False     Citation        False   \n",
       "1             NaN         NaN             False     Citation        False   \n",
       "2             NaN         NaN             False     Citation        False   \n",
       "3             NaN         NaN             False     Citation        False   \n",
       "4             NaN         NaN             False     Citation        False   \n",
       "\n",
       "  stop_duration out_of_state  drugs_related_stop district  frisk hour  year  \\\n",
       "0      0-15 Min        False               False  Zone K1  False   01  2005   \n",
       "1      0-15 Min        False               False  Zone K1  False   01  2005   \n",
       "2     16-30 Min        False               False  Zone X4  False   20  2005   \n",
       "3     16-30 Min        False               False  Zone X4  False   20  2005   \n",
       "4      0-15 Min        False               False  Zone X4  False   12  2005   \n",
       "\n",
       "         DATE rating  \n",
       "0  2005-01-02   good  \n",
       "1  2005-01-02    bad  \n",
       "2  2005-01-02   good  \n",
       "3  2005-01-02    bad  \n",
       "4  2005-01-04   good  "
      ]
     },
     "execution_count": 54,
     "metadata": {},
     "output_type": "execute_result"
    }
   ],
   "source": [
    "ri_weather = pd.merge(left=df, right=weather_rating, how=\"left\", left_on=df.stop_date, right_on=weather_rating.DATE)\n",
    "ri_weather.drop(columns=\"key_0\", inplace=True)\n",
    "ri_weather.head()"
   ]
  },
  {
   "cell_type": "markdown",
   "id": "0ba1bf8b",
   "metadata": {},
   "source": [
    "***"
   ]
  },
  {
   "cell_type": "markdown",
   "id": "a594df93",
   "metadata": {},
   "source": [
    "## Comparing arrest rates by weather rating\n",
    "\n",
    "Do police officers arrest drivers more often when the weather is bad? Let's find out below!\n",
    "\n",
    "- **First**, I'll calculate the **overall arrest rate**.\n",
    "\n",
    "- **Then**, I'll calculate the **arrest rate** for each of the **weather ratings** I previously assigned.\n",
    "\n",
    "- **Finally**, I'll add **violation type** as a second factor in the analysis, to see if that accounts for any differences in the arrest rate.\n",
    "\n",
    "Since I previously defined a logical order for the weather categories, ``good < bad < worse``, they will be sorted that way in the results."
   ]
  },
  {
   "cell_type": "markdown",
   "id": "f805d08f",
   "metadata": {},
   "source": [
    "***"
   ]
  },
  {
   "cell_type": "code",
   "execution_count": 55,
   "id": "c34e4e31",
   "metadata": {},
   "outputs": [
    {
     "data": {
      "text/plain": [
       "0.035"
      ]
     },
     "execution_count": 55,
     "metadata": {},
     "output_type": "execute_result"
    }
   ],
   "source": [
    "round(ri_weather[\"is_arrested\"].mean(), 3)"
   ]
  },
  {
   "cell_type": "code",
   "execution_count": 56,
   "id": "8818b419",
   "metadata": {},
   "outputs": [
    {
     "name": "stderr",
     "output_type": "stream",
     "text": [
      "<ipython-input-56-f6518429be02>:1: FutureWarning: Indexing with multiple keys (implicitly converted to a tuple of keys) will be deprecated, use a list instead.\n",
      "  arrest_rate = ri_weather.groupby([\"rating\", \"violation\"])[\"is_arrested\", \"violation\"].mean()\n"
     ]
    }
   ],
   "source": [
    "arrest_rate = ri_weather.groupby([\"rating\", \"violation\"])[\"is_arrested\", \"violation\"].mean()"
   ]
  },
  {
   "cell_type": "markdown",
   "id": "5c9f35d6",
   "metadata": {},
   "source": [
    "***"
   ]
  },
  {
   "cell_type": "markdown",
   "id": "5f9549db",
   "metadata": {},
   "source": [
    "## Selecting from a multi-indexed series\n",
    "\n",
    "\n",
    "The output of a single ``.groupby()`` operation on multiple columns is a ``Series`` with a ``MultiIndex``. Working with this type of object is similar to working with a ``DataFrame``:\n",
    "\n",
    "The ``outer`` index level is like the ``DataFrame`` rows.\n",
    "The ``inner`` index level is like the ``DataFrame`` columns.\n",
    "Now we will practice accessing data from a multi-indexed ``Series`` using the ``.loc[]`` accessor."
   ]
  },
  {
   "cell_type": "markdown",
   "id": "e5cbb661",
   "metadata": {},
   "source": [
    "***"
   ]
  },
  {
   "cell_type": "code",
   "execution_count": 57,
   "id": "9079bb7a",
   "metadata": {},
   "outputs": [
    {
     "data": {
      "text/plain": [
       "is_arrested    0.0581\n",
       "Name: (bad, Moving violation), dtype: float64"
      ]
     },
     "execution_count": 57,
     "metadata": {},
     "output_type": "execute_result"
    }
   ],
   "source": [
    "round(arrest_rate.loc[\"bad\", \"Moving violation\"], 4)"
   ]
  },
  {
   "cell_type": "code",
   "execution_count": 58,
   "id": "e615c64c",
   "metadata": {},
   "outputs": [
    {
     "data": {
      "text/plain": [
       "is_arrested    0.0135\n",
       "Name: (good, Speeding), dtype: float64"
      ]
     },
     "execution_count": 58,
     "metadata": {},
     "output_type": "execute_result"
    }
   ],
   "source": [
    "round(arrest_rate.loc[\"good\",\"Speeding\"], 4)"
   ]
  },
  {
   "cell_type": "code",
   "execution_count": 59,
   "id": "192340a7",
   "metadata": {},
   "outputs": [
    {
     "data": {
      "text/plain": [
       "is_arrested    0.0133\n",
       "Name: (bad, Speeding), dtype: float64"
      ]
     },
     "execution_count": 59,
     "metadata": {},
     "output_type": "execute_result"
    }
   ],
   "source": [
    "round(arrest_rate.loc[\"bad\",\"Speeding\"], 4)"
   ]
  },
  {
   "cell_type": "code",
   "execution_count": 60,
   "id": "e1b65699",
   "metadata": {},
   "outputs": [
    {
     "data": {
      "text/plain": [
       "is_arrested    0.0166\n",
       "Name: (worse, Speeding), dtype: float64"
      ]
     },
     "execution_count": 60,
     "metadata": {},
     "output_type": "execute_result"
    }
   ],
   "source": [
    "round(arrest_rate.loc[\"worse\",\"Speeding\"], 4)"
   ]
  },
  {
   "cell_type": "markdown",
   "id": "9882c908",
   "metadata": {},
   "source": [
    "***"
   ]
  },
  {
   "cell_type": "markdown",
   "id": "44e6f052",
   "metadata": {},
   "source": [
    "## Reshaping the arrest rate data\n",
    "\n",
    "In this last part of my analysis, I'll start by **reshaping** the ``arrest_rate`` ``Series`` into a ``DataFrame``. This is a useful step when working with any multi-indexed ``Series``, since it enables you to access the full range of ``DataFrame`` methods.\n",
    "\n",
    "Then, I'll create the exact same ``DataFrame`` using a ``pivot table``. This is a great example of how pandas often gives you more than one way to reach the same result!"
   ]
  },
  {
   "cell_type": "markdown",
   "id": "ecb4bbbb",
   "metadata": {},
   "source": [
    "***"
   ]
  },
  {
   "cell_type": "code",
   "execution_count": 61,
   "id": "3ea2920b",
   "metadata": {},
   "outputs": [
    {
     "data": {
      "text/html": [
       "<div>\n",
       "<style scoped>\n",
       "    .dataframe tbody tr th:only-of-type {\n",
       "        vertical-align: middle;\n",
       "    }\n",
       "\n",
       "    .dataframe tbody tr th {\n",
       "        vertical-align: top;\n",
       "    }\n",
       "\n",
       "    .dataframe thead tr th {\n",
       "        text-align: left;\n",
       "    }\n",
       "\n",
       "    .dataframe thead tr:last-of-type th {\n",
       "        text-align: right;\n",
       "    }\n",
       "</style>\n",
       "<table border=\"1\" class=\"dataframe\">\n",
       "  <thead>\n",
       "    <tr>\n",
       "      <th></th>\n",
       "      <th colspan=\"6\" halign=\"left\">is_arrested</th>\n",
       "    </tr>\n",
       "    <tr>\n",
       "      <th>violation</th>\n",
       "      <th>Equipment</th>\n",
       "      <th>Moving violation</th>\n",
       "      <th>Other</th>\n",
       "      <th>Registration/plates</th>\n",
       "      <th>Seat belt</th>\n",
       "      <th>Speeding</th>\n",
       "    </tr>\n",
       "    <tr>\n",
       "      <th>rating</th>\n",
       "      <th></th>\n",
       "      <th></th>\n",
       "      <th></th>\n",
       "      <th></th>\n",
       "      <th></th>\n",
       "      <th></th>\n",
       "    </tr>\n",
       "  </thead>\n",
       "  <tbody>\n",
       "    <tr>\n",
       "      <th>good</th>\n",
       "      <td>0.059125</td>\n",
       "      <td>0.056805</td>\n",
       "      <td>0.080682</td>\n",
       "      <td>0.083238</td>\n",
       "      <td>0.026339</td>\n",
       "      <td>0.013494</td>\n",
       "    </tr>\n",
       "    <tr>\n",
       "      <th>bad</th>\n",
       "      <td>0.059581</td>\n",
       "      <td>0.058081</td>\n",
       "      <td>0.084950</td>\n",
       "      <td>0.092634</td>\n",
       "      <td>0.028795</td>\n",
       "      <td>0.013348</td>\n",
       "    </tr>\n",
       "    <tr>\n",
       "      <th>worse</th>\n",
       "      <td>0.094373</td>\n",
       "      <td>0.062249</td>\n",
       "      <td>0.058704</td>\n",
       "      <td>0.098673</td>\n",
       "      <td>0.000000</td>\n",
       "      <td>0.016600</td>\n",
       "    </tr>\n",
       "  </tbody>\n",
       "</table>\n",
       "</div>"
      ],
      "text/plain": [
       "          is_arrested                                                 \\\n",
       "violation   Equipment Moving violation     Other Registration/plates   \n",
       "rating                                                                 \n",
       "good         0.059125         0.056805  0.080682            0.083238   \n",
       "bad          0.059581         0.058081  0.084950            0.092634   \n",
       "worse        0.094373         0.062249  0.058704            0.098673   \n",
       "\n",
       "                               \n",
       "violation Seat belt  Speeding  \n",
       "rating                         \n",
       "good       0.026339  0.013494  \n",
       "bad        0.028795  0.013348  \n",
       "worse      0.000000  0.016600  "
      ]
     },
     "execution_count": 61,
     "metadata": {},
     "output_type": "execute_result"
    }
   ],
   "source": [
    "arrest_rate.unstack()"
   ]
  },
  {
   "cell_type": "code",
   "execution_count": 62,
   "id": "5253a129",
   "metadata": {},
   "outputs": [
    {
     "data": {
      "text/html": [
       "<div>\n",
       "<style scoped>\n",
       "    .dataframe tbody tr th:only-of-type {\n",
       "        vertical-align: middle;\n",
       "    }\n",
       "\n",
       "    .dataframe tbody tr th {\n",
       "        vertical-align: top;\n",
       "    }\n",
       "\n",
       "    .dataframe thead th {\n",
       "        text-align: right;\n",
       "    }\n",
       "</style>\n",
       "<table border=\"1\" class=\"dataframe\">\n",
       "  <thead>\n",
       "    <tr style=\"text-align: right;\">\n",
       "      <th>violation</th>\n",
       "      <th>Equipment</th>\n",
       "      <th>Moving violation</th>\n",
       "      <th>Other</th>\n",
       "      <th>Registration/plates</th>\n",
       "      <th>Seat belt</th>\n",
       "      <th>Speeding</th>\n",
       "    </tr>\n",
       "    <tr>\n",
       "      <th>rating</th>\n",
       "      <th></th>\n",
       "      <th></th>\n",
       "      <th></th>\n",
       "      <th></th>\n",
       "      <th></th>\n",
       "      <th></th>\n",
       "    </tr>\n",
       "  </thead>\n",
       "  <tbody>\n",
       "    <tr>\n",
       "      <th>good</th>\n",
       "      <td>0.059125</td>\n",
       "      <td>0.056805</td>\n",
       "      <td>0.080682</td>\n",
       "      <td>0.083238</td>\n",
       "      <td>0.026339</td>\n",
       "      <td>0.013494</td>\n",
       "    </tr>\n",
       "    <tr>\n",
       "      <th>bad</th>\n",
       "      <td>0.059581</td>\n",
       "      <td>0.058081</td>\n",
       "      <td>0.084950</td>\n",
       "      <td>0.092634</td>\n",
       "      <td>0.028795</td>\n",
       "      <td>0.013348</td>\n",
       "    </tr>\n",
       "    <tr>\n",
       "      <th>worse</th>\n",
       "      <td>0.094373</td>\n",
       "      <td>0.062249</td>\n",
       "      <td>0.058704</td>\n",
       "      <td>0.098673</td>\n",
       "      <td>0.000000</td>\n",
       "      <td>0.016600</td>\n",
       "    </tr>\n",
       "  </tbody>\n",
       "</table>\n",
       "</div>"
      ],
      "text/plain": [
       "violation  Equipment  Moving violation     Other  Registration/plates  \\\n",
       "rating                                                                  \n",
       "good        0.059125          0.056805  0.080682             0.083238   \n",
       "bad         0.059581          0.058081  0.084950             0.092634   \n",
       "worse       0.094373          0.062249  0.058704             0.098673   \n",
       "\n",
       "violation  Seat belt  Speeding  \n",
       "rating                          \n",
       "good        0.026339  0.013494  \n",
       "bad         0.028795  0.013348  \n",
       "worse       0.000000  0.016600  "
      ]
     },
     "execution_count": 62,
     "metadata": {},
     "output_type": "execute_result"
    }
   ],
   "source": [
    "ri_weather.pivot_table(index=\"violation\", columns=\"rating\", values=\"is_arrested\").T"
   ]
  },
  {
   "cell_type": "markdown",
   "id": "b0d66f1c",
   "metadata": {},
   "source": [
    "***"
   ]
  },
  {
   "cell_type": "markdown",
   "id": "3c3ea147",
   "metadata": {},
   "source": [
    "This is the end of my analysis. We end up making conclusions about various topics. It was a great experince for me. I hope you enjoyed it too.\n",
    "\n",
    "\n",
    "# THE END."
   ]
  }
 ],
 "metadata": {
  "kernelspec": {
   "display_name": "Python 3",
   "language": "python",
   "name": "python3"
  },
  "language_info": {
   "codemirror_mode": {
    "name": "ipython",
    "version": 3
   },
   "file_extension": ".py",
   "mimetype": "text/x-python",
   "name": "python",
   "nbconvert_exporter": "python",
   "pygments_lexer": "ipython3",
   "version": "3.8.8"
  }
 },
 "nbformat": 4,
 "nbformat_minor": 5
}
